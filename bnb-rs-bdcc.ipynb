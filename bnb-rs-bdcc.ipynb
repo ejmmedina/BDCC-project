{
 "cells": [
  {
   "cell_type": "markdown",
   "metadata": {},
   "source": [
    "<div style=\"text-align:center; padding-top:10px; padding-bottom:20px\">\n",
    "    <font color='darkpink'><center><h1>Upgrading Amenities: <br> An Application of Recommender Systems in Airbnb Listings</h1><center/></font>\n",
    "    </div>\n",
    "<div style=\"text-align:center\">\n",
    "    <b>Big Data and Cloud Computing Final Project</b><br>\n",
    "    <b>LT6: Buno, Medina, Ongleo</b>\n",
    "</div>"
   ]
  },
  {
   "cell_type": "markdown",
   "metadata": {},
   "source": [
    "## Executive Summary\n",
    "<br>\n",
    "<div align='justify'>Airbnb is an online marketplace for users to find lodging or rentals for short-term vacations to even long-term stays. It has a total of 150 million users worldwide with around 2 million people staying on an Airbnb per night. Catering to this demand, there are over 6 million Airbnb listings for users to choose from. More and more hotel owners to small-time apartment owners are shifting to this medium in looking for their next customer. With that, listings are getting more and more competitive to become more attractive to Airbnb users. </div>\n",
    "<br>\n",
    "<div align='justify'>\n",
    "This study aims to find which amenities should owners/hosts need to add to their Airbnb properties to become more competitive in their different segments. Using the Inside Airbnb dataset available in jojie filtered to listings only, we looked into clustering the listings based on the different features such as number of bedrooms, property type, etc. and recommend what amenities are most needed to increase the value of the property per cluster. The data consists of listings from 2015 to 2019 amounting to about 16 million rows with 106 features, comprising a total of 85GB.\n",
    "</div>"
   ]
  },
  {
   "cell_type": "markdown",
   "metadata": {},
   "source": [
    "K-Means algorithm was used in performing the clustering of listings. Eight (8) clusters were identified based on the validation criterias and clustering are based on the type and size of the listings. The clusters obtained are the following indicating their characteristics: \n",
    "   - Cluster 0: Lower-middle end\n",
    "   - Cluster 1: Middle end (entire home)\n",
    "   - Cluster 2: Upper-middle end\n",
    "   - Cluster 3: Low end\n",
    "   - Cluster 4: Middle end (Private rooms)\n",
    "   - Cluster 5: Ultra high end\n",
    "   - Cluster 6: Ultra low end\n",
    "   - Cluster 7: High end"
   ]
  },
  {
   "cell_type": "markdown",
   "metadata": {},
   "source": [
    "<div align='justify'>\n",
    "After obtaining the clusters, user-based collaborative filtering was then used to make recommendations of amenities per cluster. However, what makes this system different is that it recommends amenities to the low-rated listings using the similar listings but with high rating. This is to find what the low-rated listings are missing that the high-rated listings have. Doing this would also help the owners address customer convenience, increase its listing's popularity, and further understand what the customers really needs.\n",
    "</div>"
   ]
  },
  {
   "cell_type": "markdown",
   "metadata": {},
   "source": [
    "Results of the recommender system showed that what the low-rated listings are lacking are not necessarily the most commonly needed amenities but the very much desired ones. Some of which includes `Wifi`, `hair dryer`, and `iron`, and the `essentials` which are known to be always being used when going on a vacation or a trip. This possibly is the reason why they are being low-rated. \n",
    "\n",
    "For future studies, we recommend to extend this study to be a general recommender system which can cater listings from different countries or city, especially those which are not commonly visited by tourists. This is to help them improve their listings by adding necessary amenities mostly wanted by the customers. A monetary value of every amenity being added could also be explored by predicting the price or rating of the listing after implementing the recommended amenity. "
   ]
  },
  {
   "cell_type": "markdown",
   "metadata": {},
   "source": [
    "## Introduction\n",
    "\n",
    "### Why Airbnb?\n",
    "`Airbnb` is the world's largest accomodation-sharing website which lets 'hosts' rent out their properties to guests. It has been growing rapidly since its launch in 2009 where it only served **around 20,000 guests that year to around 500,000 guests per night**. This amount of users is not only a testament to how many people Airbnb is able to help but also to how much potential it has as a business. As of December 2019, Airbnb's value worldwide is 38 USD billion and grossing around 93 USD million in profit per year.\n",
    "\n",
    "### Why Listings?\n",
    "`Listings` are the product of Airbnb. It is every house, apartment and hotel room that you see posted in their website. These listings cater to each of the 150 million customers worldwide. Given this market, it is to no surprise that property owners would want to become Airbnb hosts. Currently, Airbnb has around **650,000 hosts in over 191 countries** and each of these hosts earn an average of 11,000 dollars per year. \n",
    "\n",
    "### Why Paris?\n",
    "For the interest of this project, the data was segmented only to listings located in `Paris, France`. The city of love is one of the most famous tourist spots there is and perhaps because of that, **houses the most number of listings in a single city**. Though this study is specific for Paris, the methodology should work for any city and thus, tweak the recommender to cater for any city.\n",
    "\n",
    "### Problem Statement\n",
    "With such a competitive market, hosts strive to make their listings better to keep their ratings, prices, and ultimately, their profit higher. One way to do this is by adding more amenities such as television, couch, or a bathtub. However, which amenities would give them the largest jump in value?\n",
    "<br>\n",
    "**Which amenities should they add to their properties to increase the competitiveness of their Airbnb listings?**"
   ]
  },
  {
   "cell_type": "markdown",
   "metadata": {},
   "source": [
    "## Data\n",
    "\n",
    "<br>\n",
    "<div align='justify'>The dataset used in this study is the Inside Airbnb data obtained from <a href='www.insideairbnb.com'>Inside Airbnb site</a>. This contains public information from different Airbnb websites inlcuding the detailed information about the listings, reviews, and calendar for 365 days in the future. The data is readily available in jojie and is accessible in gzip format. For the purpose of this study, the data was filtered for listings only, covering all listings from 2015 to 2019. This comprises a total of 85 GB of data with 16 million rows and 106 features. Some of the notable features used are the information about the hosts, the listing characteristics, and the price and reviews for each listings. </div>"
   ]
  },
  {
   "cell_type": "markdown",
   "metadata": {},
   "source": [
    "## Methodology\n",
    "\n",
    "In this study, we use the AWS Instance since we are dealing with large amount of data. The initial part of the analysis starts with clustering the listings together based on the property characteristics which will then be followed by making a recommender system of amenities for each cluster.\n"
   ]
  },
  {
   "cell_type": "markdown",
   "metadata": {},
   "source": [
    "**Loading preliminaries**"
   ]
  },
  {
   "cell_type": "code",
   "execution_count": 1,
   "metadata": {},
   "outputs": [],
   "source": [
    "import numpy as np\n",
    "import pandas as pd\n",
    "import json\n",
    "import seaborn as sns\n",
    "import pickle\n",
    "import matplotlib.pyplot as plt\n",
    "%matplotlib inline\n",
    "plt.style.use('seaborn')\n",
    "\n",
    "import dask.dataframe as dd\n",
    "from dask.distributed import Client, LocalCluster\n",
    "from dask.diagnostics import ProgressBar\n",
    "pbar = ProgressBar()\n",
    "pbar.register()\n",
    "\n",
    "\n",
    "from dask_ml.preprocessing import DummyEncoder, StandardScaler\n",
    "from dask_ml.cluster import KMeans\n",
    "from sklearn.metrics import calinski_harabasz_score, silhouette_score\n",
    "from scipy.spatial.distance import euclidean\n",
    "\n",
    "from IPython.display import clear_output\n",
    "from sklearn.feature_extraction.text import CountVectorizer\n",
    "\n",
    "from dask.delayed import delayed\n",
    "import dask\n",
    "from functools import partial"
   ]
  },
  {
   "cell_type": "markdown",
   "metadata": {},
   "source": [
    "**Connecting to AWS Insatnce**"
   ]
  },
  {
   "cell_type": "code",
   "execution_count": 2,
   "metadata": {
    "scrolled": true
   },
   "outputs": [
    {
     "data": {
      "text/html": [
       "<table style=\"border: 2px solid white;\">\n",
       "<tr>\n",
       "<td style=\"vertical-align: top; border: 0px solid white\">\n",
       "<h3 style=\"text-align: left;\">Client</h3>\n",
       "<ul style=\"text-align: left; list-style: none; margin: 0; padding: 0;\">\n",
       "  <li><b>Scheduler: </b>tcp://127.0.0.1:36837</li>\n",
       "  <li><b>Dashboard: </b><a href='http://127.0.0.1:8787/status' target='_blank'>http://127.0.0.1:8787/status</a>\n",
       "</ul>\n",
       "</td>\n",
       "<td style=\"vertical-align: top; border: 0px solid white\">\n",
       "<h3 style=\"text-align: left;\">Cluster</h3>\n",
       "<ul style=\"text-align: left; list-style:none; margin: 0; padding: 0;\">\n",
       "  <li><b>Workers: </b>4</li>\n",
       "  <li><b>Cores: </b>16</li>\n",
       "  <li><b>Memory: </b>134.01 GB</li>\n",
       "</ul>\n",
       "</td>\n",
       "</tr>\n",
       "</table>"
      ],
      "text/plain": [
       "<Client: 'tcp://127.0.0.1:36837' processes=4 threads=16, memory=134.01 GB>"
      ]
     },
     "execution_count": 2,
     "metadata": {},
     "output_type": "execute_result"
    }
   ],
   "source": [
    "from dask.distributed import Client\n",
    "client = Client()\n",
    "client"
   ]
  },
  {
   "cell_type": "markdown",
   "metadata": {},
   "source": [
    "### Clustering"
   ]
  },
  {
   "cell_type": "markdown",
   "metadata": {},
   "source": [
    "Listings have varying circumstances as to which they would have certain amenities. To give an example, a listing on a tropical area may not need certain amenities like heaters while those that experience cold winters will find this to be a staple amenity. In order to make apt recommendations, the listings must be segmented according to their context/circumstance. To do this, the listings are clustered according to features available that can affect the context of each listing.\n",
    "\n",
    "Aside from the listing ID, the clustering will incorporate the following features: `city`, `property_type`, `room_type`, `accommodates`, `bathrooms`, `bedrooms`, `beds`, `square_feet`. The features are chosen to account for the context of the listing such that low-end listings, for example, which is intended for the cheaper market, will not mix with the listings whose customers are on the other end of the spectrum."
   ]
  },
  {
   "cell_type": "markdown",
   "metadata": {},
   "source": [
    "#### Data Loading"
   ]
  },
  {
   "cell_type": "markdown",
   "metadata": {},
   "source": [
    "<div align='justify'>The files are transferred from jojie into a personal s3 bucket for easier manipulation of data. Inside airbnb data has been collected across multiple years. Because of this, there are gaps and differences in the columns logged. However since for clustering and all subsequent analysis, only a select number of columns is needed, the files will be read one by one, the relevant columns will be selected, and finally, stored into one dask dataframe and saved as a parquet file for faster processing. Before saving, the data must be filtered to remove duplicates. Since the data contains all collected listings across different years, a listing that existed in both scrape will have duplicate rows.</div>\n"
   ]
  },
  {
   "cell_type": "code",
   "execution_count": 26,
   "metadata": {
    "scrolled": true
   },
   "outputs": [
    {
     "data": {
      "text/plain": [
       "0    /argentina/ciudad-autónoma-de-buenos-aires/bue...\n",
       "1    /argentina/ciudad-autónoma-de-buenos-aires/bue...\n",
       "2    /argentina/ciudad-autónoma-de-buenos-aires/bue...\n",
       "3    /argentina/ciudad-autónoma-de-buenos-aires/bue...\n",
       "4    /argentina/ciudad-autónoma-de-buenos-aires/bue...\n",
       "Name: 0, dtype: object"
      ]
     },
     "execution_count": 26,
     "metadata": {},
     "output_type": "execute_result"
    }
   ],
   "source": [
    "# List of all files\n",
    "fnames = pd.read_csv(\"4-actualdata.txt\",\n",
    "                     header=None)[0].str.split('data.insideairbnb.com').str[1]\n",
    "fnames[:5]"
   ]
  },
  {
   "cell_type": "code",
   "execution_count": 4,
   "metadata": {},
   "outputs": [],
   "source": [
    "# Get initial dask dataframe from which we will append all other files to\n",
    "df_clus = dd.read_csv(f\"s3://bdcc-project-lt6/data{fnames[0]}/data/listings.csv.gz\",\n",
    "                      compression='gzip', dtype=np.str, assume_missing=True,\n",
    "                      error_bad_lines=False, blocksize=None, engine='python')\n",
    "\n",
    "dtypes = {i: np.str for i in df_clus.columns}\n",
    "dtypes['id'] = np.int64\n",
    "dtypes['amenities'] = np.str\n",
    "dtypes['review_scores_rating'] = np.float64"
   ]
  },
  {
   "cell_type": "code",
   "execution_count": 6,
   "metadata": {},
   "outputs": [
    {
     "name": "stdout",
     "output_type": "stream",
     "text": [
      "100.0\n"
     ]
    }
   ],
   "source": [
    "# Append all other files to df_clus\n",
    "\n",
    "# relevant columns\n",
    "clus_feat = ['id', 'city', 'property_type', 'room_type',\n",
    "             'accommodates', 'bathrooms', 'bedrooms', 'beds', 'square_feet']\n",
    "df_clus = dd.read_csv(f\"s3://bdcc-project-lt6/data{fnames[0]}/data/listings.csv.gz\",\n",
    "                      compression='gzip', dtype=dtypes, assume_missing=True, \n",
    "                      error_bad_lines=False, blocksize=None, engine='python')[clus_feat]\n",
    "failed_files = []\n",
    "i = 1\n",
    "# forloop instead of wildcard since different files have different columns\n",
    "for fname in fnames[1:]:\n",
    "    print(100*i/(len(fnames)-1))\n",
    "    try:\n",
    "        df_clus = df_clus.append(dd.read_csv(f\"s3://bdcc-project-lt6/data{fname}/data/listings.csv.gz\", \n",
    "                                             compression='gzip',\n",
    "                                             dtype=dtypes, assume_missing=True,\n",
    "                                             error_bad_lines=False,\n",
    "                                             blocksize=None, engine='python')[clus_feat])\n",
    "    except Exception as e:\n",
    "        failed_files.append(\n",
    "            f\"s3://bdcc-project-lt6/data{fname}/data/listings.csv.gz\")\n",
    "    clear_output(wait=1)\n",
    "    i += 1"
   ]
  },
  {
   "cell_type": "code",
   "execution_count": 7,
   "metadata": {},
   "outputs": [],
   "source": [
    "df_clus = df_clus.groupby('id').last()"
   ]
  },
  {
   "cell_type": "code",
   "execution_count": 2,
   "metadata": {
    "scrolled": true
   },
   "outputs": [],
   "source": [
    "df_clus.to_parquet('s3://bdcc-project-lt6-tin/clus.parquet')"
   ]
  },
  {
   "cell_type": "code",
   "execution_count": 3,
   "metadata": {},
   "outputs": [],
   "source": [
    "listing = dd.read_parquet('s3://bdcc-project-lt6-tin/clus.parquet')"
   ]
  },
  {
   "cell_type": "markdown",
   "metadata": {},
   "source": [
    "#### Data Preprocessing"
   ]
  },
  {
   "cell_type": "markdown",
   "metadata": {},
   "source": [
    "As discussed, the scope of the project is limited to Paris. For the methods aspect, limiting the scope to one city is because a one-hot encoded city variable cannot account for the similarities and differences of cities, treating each city as being of equal weights. However, we cannot simply assume this as two cities may be similar to each other in culture or in climate conditions. And so, rather than proposing one model that fits all cities, it would be better to create a model per city. For this project, the scope is for Paris only but it is easily transferrable to other cities, given availability of data."
   ]
  },
  {
   "cell_type": "code",
   "execution_count": 5,
   "metadata": {},
   "outputs": [],
   "source": [
    "listing2 = listing.map_partitions(lambda x: x[x['city'] == 'Paris'])"
   ]
  },
  {
   "cell_type": "markdown",
   "metadata": {},
   "source": [
    "After filtering the rows, we look at the columns:"
   ]
  },
  {
   "cell_type": "code",
   "execution_count": 6,
   "metadata": {},
   "outputs": [
    {
     "data": {
      "text/plain": [
       "city                  0\n",
       "property_type         0\n",
       "room_type             0\n",
       "accommodates          0\n",
       "bathrooms           156\n",
       "bedrooms            190\n",
       "beds                616\n",
       "square_feet      117229\n",
       "dtype: int64"
      ]
     },
     "execution_count": 6,
     "metadata": {},
     "output_type": "execute_result"
    }
   ],
   "source": [
    "listing2.isna().sum().compute()"
   ]
  },
  {
   "cell_type": "markdown",
   "metadata": {},
   "source": [
    "Due to high number of missing entries, the square feet feature is removed."
   ]
  },
  {
   "cell_type": "code",
   "execution_count": 7,
   "metadata": {},
   "outputs": [],
   "source": [
    "listing2 = listing2.drop(['square_feet', 'city'], errors='ignore', axis=1)"
   ]
  },
  {
   "cell_type": "code",
   "execution_count": 8,
   "metadata": {},
   "outputs": [
    {
     "data": {
      "text/plain": [
       "property_type      0\n",
       "room_type          0\n",
       "accommodates       0\n",
       "bathrooms        156\n",
       "bedrooms         190\n",
       "beds             616\n",
       "dtype: int64"
      ]
     },
     "execution_count": 8,
     "metadata": {},
     "output_type": "execute_result"
    }
   ],
   "source": [
    "listing2.isna().sum().compute()"
   ]
  },
  {
   "cell_type": "markdown",
   "metadata": {},
   "source": [
    "For the remaining NaN entries, the row is dropped if it would take leaps in assumptions to impute the value. On the other hand, features like bathrooms, bedrooms, and beds are assumed to be non-existent (zero) if it is NaN."
   ]
  },
  {
   "cell_type": "code",
   "execution_count": 9,
   "metadata": {},
   "outputs": [],
   "source": [
    "listing2 = listing2.dropna(subset=['property_type', 'accommodates'])"
   ]
  },
  {
   "cell_type": "code",
   "execution_count": 10,
   "metadata": {},
   "outputs": [],
   "source": [
    "listing2 = listing2.fillna(0)"
   ]
  },
  {
   "cell_type": "code",
   "execution_count": 11,
   "metadata": {},
   "outputs": [],
   "source": [
    "dummy = listing2.repartition(npartitions=4).persist()"
   ]
  },
  {
   "cell_type": "markdown",
   "metadata": {},
   "source": [
    "The categorical features are then one-hot encoded while the numerical are converted to float."
   ]
  },
  {
   "cell_type": "code",
   "execution_count": 12,
   "metadata": {},
   "outputs": [],
   "source": [
    "dummy = dummy.categorize(columns=['property_type', 'room_type'])"
   ]
  },
  {
   "cell_type": "code",
   "execution_count": 13,
   "metadata": {},
   "outputs": [],
   "source": [
    "nums = ['accommodates', 'bathrooms', 'bedrooms', 'beds']\n",
    "dummy[nums] = dummy[nums].astype(float)"
   ]
  },
  {
   "cell_type": "code",
   "execution_count": 14,
   "metadata": {
    "scrolled": true
   },
   "outputs": [
    {
     "data": {
      "text/plain": [
       "property_type    category\n",
       "room_type        category\n",
       "accommodates      float64\n",
       "bathrooms         float64\n",
       "bedrooms          float64\n",
       "beds              float64\n",
       "dtype: object"
      ]
     },
     "execution_count": 14,
     "metadata": {},
     "output_type": "execute_result"
    }
   ],
   "source": [
    "dummy.dtypes"
   ]
  },
  {
   "cell_type": "code",
   "execution_count": 16,
   "metadata": {
    "scrolled": true
   },
   "outputs": [
    {
     "data": {
      "text/html": [
       "<div><strong>Dask DataFrame Structure:</strong></div>\n",
       "<div>\n",
       "<style scoped>\n",
       "    .dataframe tbody tr th:only-of-type {\n",
       "        vertical-align: middle;\n",
       "    }\n",
       "\n",
       "    .dataframe tbody tr th {\n",
       "        vertical-align: top;\n",
       "    }\n",
       "\n",
       "    .dataframe thead th {\n",
       "        text-align: right;\n",
       "    }\n",
       "</style>\n",
       "<table border=\"1\" class=\"dataframe\">\n",
       "  <thead>\n",
       "    <tr style=\"text-align: right;\">\n",
       "      <th></th>\n",
       "      <th>accommodates</th>\n",
       "      <th>bathrooms</th>\n",
       "      <th>bedrooms</th>\n",
       "      <th>beds</th>\n",
       "      <th>property_type_Apartment</th>\n",
       "      <th>property_type_Bed and breakfast</th>\n",
       "      <th>property_type_Loft</th>\n",
       "      <th>property_type_Condominium</th>\n",
       "      <th>property_type_House</th>\n",
       "      <th>property_type_Townhouse</th>\n",
       "      <th>property_type_Other</th>\n",
       "      <th>property_type_Guesthouse</th>\n",
       "      <th>property_type_Houseboat</th>\n",
       "      <th>property_type_Boat</th>\n",
       "      <th>property_type_Guest suite</th>\n",
       "      <th>property_type_Tiny house</th>\n",
       "      <th>property_type_Villa</th>\n",
       "      <th>property_type_Bed &amp; Breakfast</th>\n",
       "      <th>property_type_Serviced apartment</th>\n",
       "      <th>property_type_Cabin</th>\n",
       "      <th>property_type_Aparthotel</th>\n",
       "      <th>property_type_Treehouse</th>\n",
       "      <th>property_type_Cottage</th>\n",
       "      <th>property_type_Hut</th>\n",
       "      <th>property_type_Nature lodge</th>\n",
       "      <th>property_type_Boutique hotel</th>\n",
       "      <th>property_type_In-law</th>\n",
       "      <th>property_type_Igloo</th>\n",
       "      <th>property_type_Cave</th>\n",
       "      <th>property_type_Hostel</th>\n",
       "      <th>property_type_Camper/RV</th>\n",
       "      <th>property_type_Chalet</th>\n",
       "      <th>property_type_Bungalow</th>\n",
       "      <th>property_type_Island</th>\n",
       "      <th>property_type_Hotel</th>\n",
       "      <th>property_type_Dorm</th>\n",
       "      <th>property_type_Timeshare</th>\n",
       "      <th>property_type_Vacation home</th>\n",
       "      <th>property_type_Campsite</th>\n",
       "      <th>property_type_Earth house</th>\n",
       "      <th>property_type_Casa particular</th>\n",
       "      <th>property_type_Casa particular (Cuba)</th>\n",
       "      <th>property_type_Farm stay</th>\n",
       "      <th>property_type_Dome house</th>\n",
       "      <th>property_type_Barn</th>\n",
       "      <th>property_type_Resort</th>\n",
       "      <th>property_type_Castle</th>\n",
       "      <th>room_type_Entire home/apt</th>\n",
       "      <th>room_type_Private room</th>\n",
       "      <th>room_type_Shared room</th>\n",
       "      <th>room_type_Hotel room</th>\n",
       "    </tr>\n",
       "    <tr>\n",
       "      <th>npartitions=4</th>\n",
       "      <th></th>\n",
       "      <th></th>\n",
       "      <th></th>\n",
       "      <th></th>\n",
       "      <th></th>\n",
       "      <th></th>\n",
       "      <th></th>\n",
       "      <th></th>\n",
       "      <th></th>\n",
       "      <th></th>\n",
       "      <th></th>\n",
       "      <th></th>\n",
       "      <th></th>\n",
       "      <th></th>\n",
       "      <th></th>\n",
       "      <th></th>\n",
       "      <th></th>\n",
       "      <th></th>\n",
       "      <th></th>\n",
       "      <th></th>\n",
       "      <th></th>\n",
       "      <th></th>\n",
       "      <th></th>\n",
       "      <th></th>\n",
       "      <th></th>\n",
       "      <th></th>\n",
       "      <th></th>\n",
       "      <th></th>\n",
       "      <th></th>\n",
       "      <th></th>\n",
       "      <th></th>\n",
       "      <th></th>\n",
       "      <th></th>\n",
       "      <th></th>\n",
       "      <th></th>\n",
       "      <th></th>\n",
       "      <th></th>\n",
       "      <th></th>\n",
       "      <th></th>\n",
       "      <th></th>\n",
       "      <th></th>\n",
       "      <th></th>\n",
       "      <th></th>\n",
       "      <th></th>\n",
       "      <th></th>\n",
       "      <th></th>\n",
       "      <th></th>\n",
       "      <th></th>\n",
       "      <th></th>\n",
       "      <th></th>\n",
       "      <th></th>\n",
       "    </tr>\n",
       "  </thead>\n",
       "  <tbody>\n",
       "    <tr>\n",
       "      <th>105</th>\n",
       "      <td>float64</td>\n",
       "      <td>float64</td>\n",
       "      <td>float64</td>\n",
       "      <td>float64</td>\n",
       "      <td>uint8</td>\n",
       "      <td>uint8</td>\n",
       "      <td>uint8</td>\n",
       "      <td>uint8</td>\n",
       "      <td>uint8</td>\n",
       "      <td>uint8</td>\n",
       "      <td>uint8</td>\n",
       "      <td>uint8</td>\n",
       "      <td>uint8</td>\n",
       "      <td>uint8</td>\n",
       "      <td>uint8</td>\n",
       "      <td>uint8</td>\n",
       "      <td>uint8</td>\n",
       "      <td>uint8</td>\n",
       "      <td>uint8</td>\n",
       "      <td>uint8</td>\n",
       "      <td>uint8</td>\n",
       "      <td>uint8</td>\n",
       "      <td>uint8</td>\n",
       "      <td>uint8</td>\n",
       "      <td>uint8</td>\n",
       "      <td>uint8</td>\n",
       "      <td>uint8</td>\n",
       "      <td>uint8</td>\n",
       "      <td>uint8</td>\n",
       "      <td>uint8</td>\n",
       "      <td>uint8</td>\n",
       "      <td>uint8</td>\n",
       "      <td>uint8</td>\n",
       "      <td>uint8</td>\n",
       "      <td>uint8</td>\n",
       "      <td>uint8</td>\n",
       "      <td>uint8</td>\n",
       "      <td>uint8</td>\n",
       "      <td>uint8</td>\n",
       "      <td>uint8</td>\n",
       "      <td>uint8</td>\n",
       "      <td>uint8</td>\n",
       "      <td>uint8</td>\n",
       "      <td>uint8</td>\n",
       "      <td>uint8</td>\n",
       "      <td>uint8</td>\n",
       "      <td>uint8</td>\n",
       "      <td>uint8</td>\n",
       "      <td>uint8</td>\n",
       "      <td>uint8</td>\n",
       "      <td>uint8</td>\n",
       "    </tr>\n",
       "    <tr>\n",
       "      <th>9756834</th>\n",
       "      <td>...</td>\n",
       "      <td>...</td>\n",
       "      <td>...</td>\n",
       "      <td>...</td>\n",
       "      <td>...</td>\n",
       "      <td>...</td>\n",
       "      <td>...</td>\n",
       "      <td>...</td>\n",
       "      <td>...</td>\n",
       "      <td>...</td>\n",
       "      <td>...</td>\n",
       "      <td>...</td>\n",
       "      <td>...</td>\n",
       "      <td>...</td>\n",
       "      <td>...</td>\n",
       "      <td>...</td>\n",
       "      <td>...</td>\n",
       "      <td>...</td>\n",
       "      <td>...</td>\n",
       "      <td>...</td>\n",
       "      <td>...</td>\n",
       "      <td>...</td>\n",
       "      <td>...</td>\n",
       "      <td>...</td>\n",
       "      <td>...</td>\n",
       "      <td>...</td>\n",
       "      <td>...</td>\n",
       "      <td>...</td>\n",
       "      <td>...</td>\n",
       "      <td>...</td>\n",
       "      <td>...</td>\n",
       "      <td>...</td>\n",
       "      <td>...</td>\n",
       "      <td>...</td>\n",
       "      <td>...</td>\n",
       "      <td>...</td>\n",
       "      <td>...</td>\n",
       "      <td>...</td>\n",
       "      <td>...</td>\n",
       "      <td>...</td>\n",
       "      <td>...</td>\n",
       "      <td>...</td>\n",
       "      <td>...</td>\n",
       "      <td>...</td>\n",
       "      <td>...</td>\n",
       "      <td>...</td>\n",
       "      <td>...</td>\n",
       "      <td>...</td>\n",
       "      <td>...</td>\n",
       "      <td>...</td>\n",
       "      <td>...</td>\n",
       "    </tr>\n",
       "    <tr>\n",
       "      <th>19513563</th>\n",
       "      <td>...</td>\n",
       "      <td>...</td>\n",
       "      <td>...</td>\n",
       "      <td>...</td>\n",
       "      <td>...</td>\n",
       "      <td>...</td>\n",
       "      <td>...</td>\n",
       "      <td>...</td>\n",
       "      <td>...</td>\n",
       "      <td>...</td>\n",
       "      <td>...</td>\n",
       "      <td>...</td>\n",
       "      <td>...</td>\n",
       "      <td>...</td>\n",
       "      <td>...</td>\n",
       "      <td>...</td>\n",
       "      <td>...</td>\n",
       "      <td>...</td>\n",
       "      <td>...</td>\n",
       "      <td>...</td>\n",
       "      <td>...</td>\n",
       "      <td>...</td>\n",
       "      <td>...</td>\n",
       "      <td>...</td>\n",
       "      <td>...</td>\n",
       "      <td>...</td>\n",
       "      <td>...</td>\n",
       "      <td>...</td>\n",
       "      <td>...</td>\n",
       "      <td>...</td>\n",
       "      <td>...</td>\n",
       "      <td>...</td>\n",
       "      <td>...</td>\n",
       "      <td>...</td>\n",
       "      <td>...</td>\n",
       "      <td>...</td>\n",
       "      <td>...</td>\n",
       "      <td>...</td>\n",
       "      <td>...</td>\n",
       "      <td>...</td>\n",
       "      <td>...</td>\n",
       "      <td>...</td>\n",
       "      <td>...</td>\n",
       "      <td>...</td>\n",
       "      <td>...</td>\n",
       "      <td>...</td>\n",
       "      <td>...</td>\n",
       "      <td>...</td>\n",
       "      <td>...</td>\n",
       "      <td>...</td>\n",
       "      <td>...</td>\n",
       "    </tr>\n",
       "    <tr>\n",
       "      <th>29270292</th>\n",
       "      <td>...</td>\n",
       "      <td>...</td>\n",
       "      <td>...</td>\n",
       "      <td>...</td>\n",
       "      <td>...</td>\n",
       "      <td>...</td>\n",
       "      <td>...</td>\n",
       "      <td>...</td>\n",
       "      <td>...</td>\n",
       "      <td>...</td>\n",
       "      <td>...</td>\n",
       "      <td>...</td>\n",
       "      <td>...</td>\n",
       "      <td>...</td>\n",
       "      <td>...</td>\n",
       "      <td>...</td>\n",
       "      <td>...</td>\n",
       "      <td>...</td>\n",
       "      <td>...</td>\n",
       "      <td>...</td>\n",
       "      <td>...</td>\n",
       "      <td>...</td>\n",
       "      <td>...</td>\n",
       "      <td>...</td>\n",
       "      <td>...</td>\n",
       "      <td>...</td>\n",
       "      <td>...</td>\n",
       "      <td>...</td>\n",
       "      <td>...</td>\n",
       "      <td>...</td>\n",
       "      <td>...</td>\n",
       "      <td>...</td>\n",
       "      <td>...</td>\n",
       "      <td>...</td>\n",
       "      <td>...</td>\n",
       "      <td>...</td>\n",
       "      <td>...</td>\n",
       "      <td>...</td>\n",
       "      <td>...</td>\n",
       "      <td>...</td>\n",
       "      <td>...</td>\n",
       "      <td>...</td>\n",
       "      <td>...</td>\n",
       "      <td>...</td>\n",
       "      <td>...</td>\n",
       "      <td>...</td>\n",
       "      <td>...</td>\n",
       "      <td>...</td>\n",
       "      <td>...</td>\n",
       "      <td>...</td>\n",
       "      <td>...</td>\n",
       "    </tr>\n",
       "    <tr>\n",
       "      <th>39027022</th>\n",
       "      <td>...</td>\n",
       "      <td>...</td>\n",
       "      <td>...</td>\n",
       "      <td>...</td>\n",
       "      <td>...</td>\n",
       "      <td>...</td>\n",
       "      <td>...</td>\n",
       "      <td>...</td>\n",
       "      <td>...</td>\n",
       "      <td>...</td>\n",
       "      <td>...</td>\n",
       "      <td>...</td>\n",
       "      <td>...</td>\n",
       "      <td>...</td>\n",
       "      <td>...</td>\n",
       "      <td>...</td>\n",
       "      <td>...</td>\n",
       "      <td>...</td>\n",
       "      <td>...</td>\n",
       "      <td>...</td>\n",
       "      <td>...</td>\n",
       "      <td>...</td>\n",
       "      <td>...</td>\n",
       "      <td>...</td>\n",
       "      <td>...</td>\n",
       "      <td>...</td>\n",
       "      <td>...</td>\n",
       "      <td>...</td>\n",
       "      <td>...</td>\n",
       "      <td>...</td>\n",
       "      <td>...</td>\n",
       "      <td>...</td>\n",
       "      <td>...</td>\n",
       "      <td>...</td>\n",
       "      <td>...</td>\n",
       "      <td>...</td>\n",
       "      <td>...</td>\n",
       "      <td>...</td>\n",
       "      <td>...</td>\n",
       "      <td>...</td>\n",
       "      <td>...</td>\n",
       "      <td>...</td>\n",
       "      <td>...</td>\n",
       "      <td>...</td>\n",
       "      <td>...</td>\n",
       "      <td>...</td>\n",
       "      <td>...</td>\n",
       "      <td>...</td>\n",
       "      <td>...</td>\n",
       "      <td>...</td>\n",
       "      <td>...</td>\n",
       "    </tr>\n",
       "  </tbody>\n",
       "</table>\n",
       "</div>\n",
       "<div>Dask Name: get_dummies, 4 tasks</div>"
      ],
      "text/plain": [
       "Dask DataFrame Structure:\n",
       "              accommodates bathrooms bedrooms     beds property_type_Apartment property_type_Bed and breakfast property_type_Loft property_type_Condominium property_type_House property_type_Townhouse property_type_Other property_type_Guesthouse property_type_Houseboat property_type_Boat property_type_Guest suite property_type_Tiny house property_type_Villa property_type_Bed & Breakfast property_type_Serviced apartment property_type_Cabin property_type_Aparthotel property_type_Treehouse property_type_Cottage property_type_Hut property_type_Nature lodge property_type_Boutique hotel property_type_In-law property_type_Igloo property_type_Cave property_type_Hostel property_type_Camper/RV property_type_Chalet property_type_Bungalow property_type_Island property_type_Hotel property_type_Dorm property_type_Timeshare property_type_Vacation home property_type_Campsite property_type_Earth house property_type_Casa particular property_type_Casa particular (Cuba) property_type_Farm stay property_type_Dome house property_type_Barn property_type_Resort property_type_Castle room_type_Entire home/apt room_type_Private room room_type_Shared room room_type_Hotel room\n",
       "npartitions=4                                                                                                                                                                                                                                                                                                                                                                                                                                                                                                                                                                                                                                                                                                                                                                                                                                                                                                                                                                                                                                                                                                                                                                                                \n",
       "105                float64   float64  float64  float64                   uint8                           uint8              uint8                     uint8               uint8                   uint8               uint8                    uint8                   uint8              uint8                     uint8                    uint8               uint8                         uint8                            uint8               uint8                    uint8                   uint8                 uint8             uint8                      uint8                        uint8                uint8               uint8              uint8                uint8                   uint8                uint8                  uint8                uint8               uint8              uint8                   uint8                       uint8                  uint8                     uint8                         uint8                                uint8                   uint8                    uint8              uint8                uint8                uint8                     uint8                  uint8                 uint8                uint8\n",
       "9756834                ...       ...      ...      ...                     ...                             ...                ...                       ...                 ...                     ...                 ...                      ...                     ...                ...                       ...                      ...                 ...                           ...                              ...                 ...                      ...                     ...                   ...               ...                        ...                          ...                  ...                 ...                ...                  ...                     ...                  ...                    ...                  ...                 ...                ...                     ...                         ...                    ...                       ...                           ...                                  ...                     ...                      ...                ...                  ...                  ...                       ...                    ...                   ...                  ...\n",
       "19513563               ...       ...      ...      ...                     ...                             ...                ...                       ...                 ...                     ...                 ...                      ...                     ...                ...                       ...                      ...                 ...                           ...                              ...                 ...                      ...                     ...                   ...               ...                        ...                          ...                  ...                 ...                ...                  ...                     ...                  ...                    ...                  ...                 ...                ...                     ...                         ...                    ...                       ...                           ...                                  ...                     ...                      ...                ...                  ...                  ...                       ...                    ...                   ...                  ...\n",
       "29270292               ...       ...      ...      ...                     ...                             ...                ...                       ...                 ...                     ...                 ...                      ...                     ...                ...                       ...                      ...                 ...                           ...                              ...                 ...                      ...                     ...                   ...               ...                        ...                          ...                  ...                 ...                ...                  ...                     ...                  ...                    ...                  ...                 ...                ...                     ...                         ...                    ...                       ...                           ...                                  ...                     ...                      ...                ...                  ...                  ...                       ...                    ...                   ...                  ...\n",
       "39027022               ...       ...      ...      ...                     ...                             ...                ...                       ...                 ...                     ...                 ...                      ...                     ...                ...                       ...                      ...                 ...                           ...                              ...                 ...                      ...                     ...                   ...               ...                        ...                          ...                  ...                 ...                ...                  ...                     ...                  ...                    ...                  ...                 ...                ...                     ...                         ...                    ...                       ...                           ...                                  ...                     ...                      ...                ...                  ...                  ...                       ...                    ...                   ...                  ...\n",
       "Dask Name: get_dummies, 4 tasks"
      ]
     },
     "execution_count": 16,
     "metadata": {},
     "output_type": "execute_result"
    }
   ],
   "source": [
    "de = DummyEncoder(columns=['property_type', 'room_type'])\n",
    "dummy = de.fit_transform(dummy).persist()\n",
    "dummy"
   ]
  },
  {
   "cell_type": "markdown",
   "metadata": {},
   "source": [
    "#### Clustering"
   ]
  },
  {
   "cell_type": "markdown",
   "metadata": {},
   "source": [
    "\n",
    "The pre-processed data will then be clustered. `k-means++` clustering is used for this analysis wherein the initial centroids are set apart from each other for easier convergence and to avoid converging to a local solution with the centroids close to each other. The clusters are evaluated using `inertia` or `SSE`, `Calinski-Harabasz score`, and `Silhouette coefficient` (Note that `Intracluster to intercluster distance ratio` was not used due to its complexity of approximately $O(n^2)$ since it takes the pairwise distance of the points). A random seed is also used for reproducibility of results."
   ]
  },
  {
   "cell_type": "code",
   "execution_count": 22,
   "metadata": {},
   "outputs": [
    {
     "name": "stdout",
     "output_type": "stream",
     "text": [
      "Begin clustering to 3 clusters\n",
      "Done clustering. Begin evaluating clusters...\n",
      "Done evaluating!\n",
      "Begin clustering to 4 clusters\n",
      "Done clustering. Begin evaluating clusters...\n",
      "Done evaluating!\n",
      "Begin clustering to 5 clusters\n",
      "Done clustering. Begin evaluating clusters...\n",
      "Done evaluating!\n",
      "Begin clustering to 6 clusters\n",
      "Done clustering. Begin evaluating clusters...\n",
      "Done evaluating!\n",
      "Begin clustering to 7 clusters\n",
      "Done clustering. Begin evaluating clusters...\n",
      "Done evaluating!\n",
      "Begin clustering to 8 clusters\n",
      "Done clustering. Begin evaluating clusters...\n",
      "Done evaluating!\n",
      "Begin clustering to 9 clusters\n",
      "Done clustering. Begin evaluating clusters...\n",
      "Done evaluating!\n",
      "Begin clustering to 10 clusters\n",
      "Done clustering. Begin evaluating clusters...\n",
      "Done evaluating!\n"
     ]
    }
   ],
   "source": [
    "sse = {}\n",
    "chs = {}\n",
    "iidrs = {}\n",
    "scs = {}\n",
    "kms = {}\n",
    "X = dummy\n",
    "np.random.seed(42)\n",
    "\n",
    "for n in range(3, 11):\n",
    "    print(f\"Begin clustering to {n} clusters\")\n",
    "    km = KMeans(n_clusters=n, init_max_iter=2,\n",
    "                oversampling_factor=10, init='k-means++', random_state=42)\n",
    "    X_new = km.fit_transform(X)\n",
    "    print(\"Done clustering. Begin evaluating clusters...\")\n",
    "    y_predict_X = km.labels_.compute()\n",
    "\n",
    "    sse[n] = km.inertia_\n",
    "\n",
    "    chs[n] = calinski_harabasz_score(X, y_predict_X)\n",
    "\n",
    "    scs[n] = silhouette_score(X, y_predict_X)\n",
    "    kms[n] = km\n",
    "    print(\"Done evaluating!\")"
   ]
  },
  {
   "cell_type": "code",
   "execution_count": 23,
   "metadata": {},
   "outputs": [
    {
     "data": {
      "text/plain": [
       "<matplotlib.legend.Legend at 0x7fadd50f0da0>"
      ]
     },
     "execution_count": 23,
     "metadata": {},
     "output_type": "execute_result"
    },
    {
     "data": {
      "image/png": "[encoded data removed]",
      "text/plain": [
       "<Figure size 576x396 with 1 Axes>"
      ]
     },
     "metadata": {},
     "output_type": "display_data"
    }
   ],
   "source": [
    "plt.plot(list(sse.keys()), list(sse.values()), label='SSE')\n",
    "plt.plot(list(chs.keys()), list(chs.values()), label='Calinski-Harabasz score')\n",
    "plt.plot(list(scs.keys()), list(scs.values()), label='Silhouette score')\n",
    "plt.xlabel(\"Number of clusters\")\n",
    "plt.ylabel(\"Internal validation scores\")\n",
    "plt.legend()"
   ]
  },
  {
   "cell_type": "markdown",
   "metadata": {},
   "source": [
    "<div align='justify'>In evaluating how good the clusters are, the clusters formed must have low SSE, high Calinski-Harabasz score, and high Silhouette coefficient. For visualization and decision-making purposes, we normalize the validation scores by their maximum value to make proper comparisions and decide the best number of clusters.</div>"
   ]
  },
  {
   "cell_type": "code",
   "execution_count": 27,
   "metadata": {},
   "outputs": [
    {
     "data": {
      "text/plain": [
       "<matplotlib.legend.Legend at 0x7fadd48f9a90>"
      ]
     },
     "execution_count": 27,
     "metadata": {},
     "output_type": "execute_result"
    },
    {
     "data": {
      "image/png": "[encoded data removed]",
      "text/plain": [
       "<Figure size 576x396 with 1 Axes>"
      ]
     },
     "metadata": {},
     "output_type": "display_data"
    }
   ],
   "source": [
    "plt.plot(list(sse.keys()), np.array(list(sse.values())) /\n",
    "         max(sse.values()), label='SSE')\n",
    "plt.plot(list(chs.keys()), np.array(list(chs.values())) /\n",
    "         max(chs.values()), label='Calinski-Harabasz score')\n",
    "plt.plot(list(scs.keys()), np.array(list(scs.values())) /\n",
    "         max(scs.values()), label='Silhouette score')\n",
    "plt.xlabel(\"Number of clusters\")\n",
    "plt.ylabel(\"Normalized internal validation scores\")\n",
    "plt.legend()"
   ]
  },
  {
   "cell_type": "markdown",
   "metadata": {},
   "source": [
    "From the plot above, 8 clusters have low SSE while having high CH and Silhouette scores.\n",
    "After getting the clusters, we can now look at the characteristics of each cluster. In terms of size, the clusters are balanced, except for some clusters with lower but comparable sizes (and one cluster that is very small) as shown in the figure below. "
   ]
  },
  {
   "cell_type": "code",
   "execution_count": 36,
   "metadata": {},
   "outputs": [],
   "source": [
    "k = 8\n",
    "km = kms[k]\n",
    "counts = pd.Series(km.labels_.compute()).value_counts()"
   ]
  },
  {
   "cell_type": "code",
   "execution_count": 35,
   "metadata": {
    "scrolled": false
   },
   "outputs": [
    {
     "data": {
      "image/png": "[encoded data removed]",
      "text/plain": [
       "<Figure size 576x396 with 1 Axes>"
      ]
     },
     "metadata": {},
     "output_type": "display_data"
    }
   ],
   "source": [
    "counts_sorted = counts.sort_index()\n",
    "\n",
    "index = []\n",
    "val = []\n",
    "\n",
    "for i, j in enumerate(counts_sorted):\n",
    "    index.append(i)\n",
    "    val.append(j)\n",
    "\n",
    "plt.bar(index, val)\n",
    "plt.xlabel('Clusters')\n",
    "plt.ylabel('No. of Listings')\n",
    "plt.title('Distribution of Listings per Cluster');"
   ]
  },
  {
   "cell_type": "markdown",
   "metadata": {},
   "source": [
    "Appending the cluster number with the working dataset, we have:"
   ]
  },
  {
   "cell_type": "code",
   "execution_count": 29,
   "metadata": {},
   "outputs": [],
   "source": [
    "listing3 = pd.concat([listing2.compute().reset_index(),\n",
    "                      pd.Series(km.labels_.compute())], axis=1)"
   ]
  },
  {
   "cell_type": "code",
   "execution_count": 30,
   "metadata": {},
   "outputs": [],
   "source": [
    "listing3 = listing3.astype(\n",
    "    {'accommodates': int, 'bathrooms': float, 'bedrooms': int, 'beds': int})"
   ]
  },
  {
   "cell_type": "code",
   "execution_count": 42,
   "metadata": {},
   "outputs": [],
   "source": [
    "listing3 = listing3.rename({0:'clusters'}, axis=1)\n",
    "listing3.to_parquet('s3://bdcc-project-lt6-tin/listing_with_cluster.parquet')"
   ]
  },
  {
   "cell_type": "markdown",
   "metadata": {},
   "source": [
    "#### Analyzing the obtained clusters"
   ]
  },
  {
   "cell_type": "markdown",
   "metadata": {},
   "source": [
    "For the numeric features, we can look at the mean and standard deviation for each cluster:"
   ]
  },
  {
   "cell_type": "code",
   "execution_count": 31,
   "metadata": {},
   "outputs": [],
   "source": [
    "df_num_mean = pd.DataFrame()\n",
    "df_num_std = pd.DataFrame()\n",
    "\n",
    "for feat in nums:\n",
    "    df_num_mean[feat] = listing3[[feat, 0]].pivot(\n",
    "        columns=0, values=feat).mean(axis=0)\n",
    "    df_num_std[feat] = listing3[[feat, 0]].pivot(\n",
    "        columns=0, values=feat).std(axis=0)"
   ]
  },
  {
   "cell_type": "code",
   "execution_count": 32,
   "metadata": {},
   "outputs": [],
   "source": [
    "df_num_mean['count'] = counts\n",
    "df_num_mean['percentage'] = (\n",
    "    100*counts / counts.sum()).round(2).astype(str) + '%'\n",
    "df_num_std['count'] = counts\n",
    "df_num_std['percentage'] = (\n",
    "    100*counts / counts.sum()).round(2).astype(str) + '%'"
   ]
  },
  {
   "cell_type": "markdown",
   "metadata": {},
   "source": [
    "Mean:"
   ]
  },
  {
   "cell_type": "code",
   "execution_count": 34,
   "metadata": {},
   "outputs": [
    {
     "data": {
      "text/html": [
       "<div>\n",
       "<style scoped>\n",
       "    .dataframe tbody tr th:only-of-type {\n",
       "        vertical-align: middle;\n",
       "    }\n",
       "\n",
       "    .dataframe tbody tr th {\n",
       "        vertical-align: top;\n",
       "    }\n",
       "\n",
       "    .dataframe thead th {\n",
       "        text-align: right;\n",
       "    }\n",
       "</style>\n",
       "<table border=\"1\" class=\"dataframe\">\n",
       "  <thead>\n",
       "    <tr style=\"text-align: right;\">\n",
       "      <th></th>\n",
       "      <th>0</th>\n",
       "      <th>1</th>\n",
       "      <th>2</th>\n",
       "      <th>3</th>\n",
       "      <th>4</th>\n",
       "      <th>5</th>\n",
       "      <th>6</th>\n",
       "      <th>7</th>\n",
       "    </tr>\n",
       "  </thead>\n",
       "  <tbody>\n",
       "    <tr>\n",
       "      <td>accommodates</td>\n",
       "      <td>2.76507</td>\n",
       "      <td>3.25782</td>\n",
       "      <td>3.71125</td>\n",
       "      <td>3.16573</td>\n",
       "      <td>2.72762</td>\n",
       "      <td>4</td>\n",
       "      <td>2.82822</td>\n",
       "      <td>4.27441</td>\n",
       "    </tr>\n",
       "    <tr>\n",
       "      <td>bathrooms</td>\n",
       "      <td>1.08089</td>\n",
       "      <td>1.12068</td>\n",
       "      <td>1.19679</td>\n",
       "      <td>1.0836</td>\n",
       "      <td>1.09205</td>\n",
       "      <td>8</td>\n",
       "      <td>1.08695</td>\n",
       "      <td>1.35382</td>\n",
       "    </tr>\n",
       "    <tr>\n",
       "      <td>bedrooms</td>\n",
       "      <td>1.00842</td>\n",
       "      <td>1.2551</td>\n",
       "      <td>1.38473</td>\n",
       "      <td>0.988896</td>\n",
       "      <td>1.00539</td>\n",
       "      <td>7.85714</td>\n",
       "      <td>0.847766</td>\n",
       "      <td>1.61953</td>\n",
       "    </tr>\n",
       "    <tr>\n",
       "      <td>beds</td>\n",
       "      <td>1.47232</td>\n",
       "      <td>1.84129</td>\n",
       "      <td>2.10495</td>\n",
       "      <td>1.65574</td>\n",
       "      <td>1.49657</td>\n",
       "      <td>3.28571</td>\n",
       "      <td>1.51871</td>\n",
       "      <td>2.51964</td>\n",
       "    </tr>\n",
       "    <tr>\n",
       "      <td>count</td>\n",
       "      <td>31716</td>\n",
       "      <td>13963</td>\n",
       "      <td>8814</td>\n",
       "      <td>26387</td>\n",
       "      <td>14296</td>\n",
       "      <td>7</td>\n",
       "      <td>22610</td>\n",
       "      <td>1782</td>\n",
       "    </tr>\n",
       "    <tr>\n",
       "      <td>percentage</td>\n",
       "      <td>26.52%</td>\n",
       "      <td>11.68%</td>\n",
       "      <td>7.37%</td>\n",
       "      <td>22.07%</td>\n",
       "      <td>11.96%</td>\n",
       "      <td>0.01%</td>\n",
       "      <td>18.91%</td>\n",
       "      <td>1.49%</td>\n",
       "    </tr>\n",
       "  </tbody>\n",
       "</table>\n",
       "</div>"
      ],
      "text/plain": [
       "0                   0        1        2         3        4        5         6  \\\n",
       "accommodates  2.76507  3.25782  3.71125   3.16573  2.72762        4   2.82822   \n",
       "bathrooms     1.08089  1.12068  1.19679    1.0836  1.09205        8   1.08695   \n",
       "bedrooms      1.00842   1.2551  1.38473  0.988896  1.00539  7.85714  0.847766   \n",
       "beds          1.47232  1.84129  2.10495   1.65574  1.49657  3.28571   1.51871   \n",
       "count           31716    13963     8814     26387    14296        7     22610   \n",
       "percentage     26.52%   11.68%    7.37%    22.07%   11.96%    0.01%    18.91%   \n",
       "\n",
       "0                   7  \n",
       "accommodates  4.27441  \n",
       "bathrooms     1.35382  \n",
       "bedrooms      1.61953  \n",
       "beds          2.51964  \n",
       "count            1782  \n",
       "percentage      1.49%  "
      ]
     },
     "execution_count": 34,
     "metadata": {},
     "output_type": "execute_result"
    }
   ],
   "source": [
    "df_num_mean.transpose()"
   ]
  },
  {
   "cell_type": "markdown",
   "metadata": {},
   "source": [
    "Standard deviation:"
   ]
  },
  {
   "cell_type": "code",
   "execution_count": 36,
   "metadata": {},
   "outputs": [
    {
     "data": {
      "text/html": [
       "<div>\n",
       "<style scoped>\n",
       "    .dataframe tbody tr th:only-of-type {\n",
       "        vertical-align: middle;\n",
       "    }\n",
       "\n",
       "    .dataframe tbody tr th {\n",
       "        vertical-align: top;\n",
       "    }\n",
       "\n",
       "    .dataframe thead th {\n",
       "        text-align: right;\n",
       "    }\n",
       "</style>\n",
       "<table border=\"1\" class=\"dataframe\">\n",
       "  <thead>\n",
       "    <tr style=\"text-align: right;\">\n",
       "      <th></th>\n",
       "      <th>0</th>\n",
       "      <th>1</th>\n",
       "      <th>2</th>\n",
       "      <th>3</th>\n",
       "      <th>4</th>\n",
       "      <th>5</th>\n",
       "      <th>6</th>\n",
       "      <th>7</th>\n",
       "    </tr>\n",
       "  </thead>\n",
       "  <tbody>\n",
       "    <tr>\n",
       "      <td>accommodates</td>\n",
       "      <td>1.40361</td>\n",
       "      <td>1.41558</td>\n",
       "      <td>1.86751</td>\n",
       "      <td>1.41778</td>\n",
       "      <td>1.44314</td>\n",
       "      <td>5.32291</td>\n",
       "      <td>1.43912</td>\n",
       "      <td>2.82851</td>\n",
       "    </tr>\n",
       "    <tr>\n",
       "      <td>bathrooms</td>\n",
       "      <td>0.528764</td>\n",
       "      <td>0.557737</td>\n",
       "      <td>0.686914</td>\n",
       "      <td>0.447081</td>\n",
       "      <td>0.569718</td>\n",
       "      <td>18.5203</td>\n",
       "      <td>0.356849</td>\n",
       "      <td>0.734438</td>\n",
       "    </tr>\n",
       "    <tr>\n",
       "      <td>bedrooms</td>\n",
       "      <td>0.811683</td>\n",
       "      <td>0.928982</td>\n",
       "      <td>1.20912</td>\n",
       "      <td>0.803467</td>\n",
       "      <td>0.828598</td>\n",
       "      <td>18.587</td>\n",
       "      <td>0.851118</td>\n",
       "      <td>1.453</td>\n",
       "    </tr>\n",
       "    <tr>\n",
       "      <td>beds</td>\n",
       "      <td>0.951458</td>\n",
       "      <td>1.10922</td>\n",
       "      <td>1.41341</td>\n",
       "      <td>1.00764</td>\n",
       "      <td>1.04021</td>\n",
       "      <td>5.61885</td>\n",
       "      <td>0.9725</td>\n",
       "      <td>2.06122</td>\n",
       "    </tr>\n",
       "    <tr>\n",
       "      <td>count</td>\n",
       "      <td>31716</td>\n",
       "      <td>13963</td>\n",
       "      <td>8814</td>\n",
       "      <td>26387</td>\n",
       "      <td>14296</td>\n",
       "      <td>7</td>\n",
       "      <td>22610</td>\n",
       "      <td>1782</td>\n",
       "    </tr>\n",
       "    <tr>\n",
       "      <td>percentage</td>\n",
       "      <td>26.52%</td>\n",
       "      <td>11.68%</td>\n",
       "      <td>7.37%</td>\n",
       "      <td>22.07%</td>\n",
       "      <td>11.96%</td>\n",
       "      <td>0.01%</td>\n",
       "      <td>18.91%</td>\n",
       "      <td>1.49%</td>\n",
       "    </tr>\n",
       "  </tbody>\n",
       "</table>\n",
       "</div>"
      ],
      "text/plain": [
       "0                    0         1         2         3         4        5  \\\n",
       "accommodates   1.40361   1.41558   1.86751   1.41778   1.44314  5.32291   \n",
       "bathrooms     0.528764  0.557737  0.686914  0.447081  0.569718  18.5203   \n",
       "bedrooms      0.811683  0.928982   1.20912  0.803467  0.828598   18.587   \n",
       "beds          0.951458   1.10922   1.41341   1.00764   1.04021  5.61885   \n",
       "count            31716     13963      8814     26387     14296        7   \n",
       "percentage      26.52%    11.68%     7.37%    22.07%    11.96%    0.01%   \n",
       "\n",
       "0                    6         7  \n",
       "accommodates   1.43912   2.82851  \n",
       "bathrooms     0.356849  0.734438  \n",
       "bedrooms      0.851118     1.453  \n",
       "beds            0.9725   2.06122  \n",
       "count            22610      1782  \n",
       "percentage      18.91%     1.49%  "
      ]
     },
     "execution_count": 36,
     "metadata": {},
     "output_type": "execute_result"
    }
   ],
   "source": [
    "df_num_std.transpose()"
   ]
  },
  {
   "cell_type": "markdown",
   "metadata": {},
   "source": [
    "From the numerical features, two clusters stand out - Cluster 5 and Cluster 7. Cluster 5, while only containing 7 listings, represents the extreme listings wherein the number of bathrooms, bedrooms, and beds it has is significantly higher than those other clusters. Cluster 7 is a less extreme version of Cluster 5, which is why it still has 1782 listings. \n",
    "\n",
    "On the other end is cluster 6, corresponding to listings with minimal number of rooms, especially bathroom. Its less extreme version is cluster 3. Note that the size of both is still significant, indicative of the huge number of low-end listings.\n",
    "\n",
    "The remaining clusters are on the average side, with cluster 0 being marginally lower-end while cluster 2 is above average. We can look into more description of the clusters using other features (non-numerical)."
   ]
  },
  {
   "cell_type": "code",
   "execution_count": 39,
   "metadata": {},
   "outputs": [
    {
     "name": "stdout",
     "output_type": "stream",
     "text": [
      "Cluster 0 - 26.52%\n",
      "Cluster 1 - 11.68%\n",
      "Cluster 2 - 7.37%\n",
      "Cluster 3 - 22.07%\n",
      "Cluster 4 - 11.96%\n",
      "Cluster 5 - 0.01%\n",
      "Cluster 6 - 18.91%\n",
      "Cluster 7 - 1.49%\n"
     ]
    },
    {
     "data": {
      "text/html": [
       "<div>\n",
       "<style scoped>\n",
       "    .dataframe tbody tr th:only-of-type {\n",
       "        vertical-align: middle;\n",
       "    }\n",
       "\n",
       "    .dataframe tbody tr th {\n",
       "        vertical-align: top;\n",
       "    }\n",
       "\n",
       "    .dataframe thead th {\n",
       "        text-align: right;\n",
       "    }\n",
       "</style>\n",
       "<table border=\"1\" class=\"dataframe\">\n",
       "  <thead>\n",
       "    <tr style=\"text-align: right;\">\n",
       "      <th></th>\n",
       "      <th>0</th>\n",
       "      <th>1</th>\n",
       "      <th>2</th>\n",
       "      <th>3</th>\n",
       "      <th>4</th>\n",
       "      <th>5</th>\n",
       "      <th>6</th>\n",
       "      <th>7</th>\n",
       "    </tr>\n",
       "  </thead>\n",
       "  <tbody>\n",
       "    <tr>\n",
       "      <td>Apartment</td>\n",
       "      <td>0.920135</td>\n",
       "      <td>0.907971</td>\n",
       "      <td>0.894373</td>\n",
       "      <td>0.913973</td>\n",
       "      <td>0.895425</td>\n",
       "      <td>0.857143</td>\n",
       "      <td>0.913799</td>\n",
       "      <td>0.865320</td>\n",
       "    </tr>\n",
       "    <tr>\n",
       "      <td>Condominium</td>\n",
       "      <td>0.025791</td>\n",
       "      <td>0.027358</td>\n",
       "      <td>0.028931</td>\n",
       "      <td>0.028461</td>\n",
       "      <td>0.029938</td>\n",
       "      <td>NaN</td>\n",
       "      <td>0.028395</td>\n",
       "      <td>0.029742</td>\n",
       "    </tr>\n",
       "    <tr>\n",
       "      <td>Loft</td>\n",
       "      <td>0.015513</td>\n",
       "      <td>0.020841</td>\n",
       "      <td>0.025301</td>\n",
       "      <td>0.015917</td>\n",
       "      <td>0.015179</td>\n",
       "      <td>NaN</td>\n",
       "      <td>0.013445</td>\n",
       "      <td>0.028058</td>\n",
       "    </tr>\n",
       "    <tr>\n",
       "      <td>Boutique hotel</td>\n",
       "      <td>0.011508</td>\n",
       "      <td>0.012963</td>\n",
       "      <td>0.014636</td>\n",
       "      <td>0.013757</td>\n",
       "      <td>0.014619</td>\n",
       "      <td>0.142857</td>\n",
       "      <td>0.014109</td>\n",
       "      <td>0.015713</td>\n",
       "    </tr>\n",
       "    <tr>\n",
       "      <td>Serviced apartment</td>\n",
       "      <td>0.006022</td>\n",
       "      <td>0.006374</td>\n",
       "      <td>0.007148</td>\n",
       "      <td>0.005647</td>\n",
       "      <td>0.006226</td>\n",
       "      <td>NaN</td>\n",
       "      <td>0.006192</td>\n",
       "      <td>0.008979</td>\n",
       "    </tr>\n",
       "    <tr>\n",
       "      <td>House</td>\n",
       "      <td>0.005801</td>\n",
       "      <td>0.008308</td>\n",
       "      <td>0.012594</td>\n",
       "      <td>0.006897</td>\n",
       "      <td>0.011122</td>\n",
       "      <td>NaN</td>\n",
       "      <td>0.007430</td>\n",
       "      <td>0.029742</td>\n",
       "    </tr>\n",
       "    <tr>\n",
       "      <td>Bed and breakfast</td>\n",
       "      <td>0.002617</td>\n",
       "      <td>0.003724</td>\n",
       "      <td>0.002609</td>\n",
       "      <td>0.002956</td>\n",
       "      <td>0.010982</td>\n",
       "      <td>NaN</td>\n",
       "      <td>0.003627</td>\n",
       "      <td>NaN</td>\n",
       "    </tr>\n",
       "    <tr>\n",
       "      <td>Guesthouse</td>\n",
       "      <td>0.002459</td>\n",
       "      <td>0.001647</td>\n",
       "      <td>0.001815</td>\n",
       "      <td>0.001857</td>\n",
       "      <td>0.003637</td>\n",
       "      <td>NaN</td>\n",
       "      <td>0.002609</td>\n",
       "      <td>0.002245</td>\n",
       "    </tr>\n",
       "    <tr>\n",
       "      <td>Townhouse</td>\n",
       "      <td>0.002302</td>\n",
       "      <td>0.003223</td>\n",
       "      <td>0.004425</td>\n",
       "      <td>0.002388</td>\n",
       "      <td>0.003428</td>\n",
       "      <td>NaN</td>\n",
       "      <td>0.002256</td>\n",
       "      <td>0.011223</td>\n",
       "    </tr>\n",
       "    <tr>\n",
       "      <td>Other</td>\n",
       "      <td>0.001860</td>\n",
       "      <td>0.002292</td>\n",
       "      <td>0.002383</td>\n",
       "      <td>0.001971</td>\n",
       "      <td>0.002658</td>\n",
       "      <td>NaN</td>\n",
       "      <td>0.002609</td>\n",
       "      <td>NaN</td>\n",
       "    </tr>\n",
       "  </tbody>\n",
       "</table>\n",
       "</div>"
      ],
      "text/plain": [
       "                           0         1         2         3         4  \\\n",
       "Apartment           0.920135  0.907971  0.894373  0.913973  0.895425   \n",
       "Condominium         0.025791  0.027358  0.028931  0.028461  0.029938   \n",
       "Loft                0.015513  0.020841  0.025301  0.015917  0.015179   \n",
       "Boutique hotel      0.011508  0.012963  0.014636  0.013757  0.014619   \n",
       "Serviced apartment  0.006022  0.006374  0.007148  0.005647  0.006226   \n",
       "House               0.005801  0.008308  0.012594  0.006897  0.011122   \n",
       "Bed and breakfast   0.002617  0.003724  0.002609  0.002956  0.010982   \n",
       "Guesthouse          0.002459  0.001647  0.001815  0.001857  0.003637   \n",
       "Townhouse           0.002302  0.003223  0.004425  0.002388  0.003428   \n",
       "Other               0.001860  0.002292  0.002383  0.001971  0.002658   \n",
       "\n",
       "                           5         6         7  \n",
       "Apartment           0.857143  0.913799  0.865320  \n",
       "Condominium              NaN  0.028395  0.029742  \n",
       "Loft                     NaN  0.013445  0.028058  \n",
       "Boutique hotel      0.142857  0.014109  0.015713  \n",
       "Serviced apartment       NaN  0.006192  0.008979  \n",
       "House                    NaN  0.007430  0.029742  \n",
       "Bed and breakfast        NaN  0.003627       NaN  \n",
       "Guesthouse               NaN  0.002609  0.002245  \n",
       "Townhouse                NaN  0.002256  0.011223  \n",
       "Other                    NaN  0.002609       NaN  "
      ]
     },
     "execution_count": 39,
     "metadata": {},
     "output_type": "execute_result"
    }
   ],
   "source": [
    "df_property_type = pd.DataFrame()\n",
    "for i in range(k):\n",
    "    print(f\"Cluster {i} - {100*counts.loc[i] / counts.sum():.2f}%\")\n",
    "    freqs = listing3[listing3[0]==i]['property_type'].value_counts()\n",
    "    freqs /= freqs.sum()\n",
    "    df_property_type[i] = freqs.head(10)\n",
    "df_property_type"
   ]
  },
  {
   "cell_type": "markdown",
   "metadata": {},
   "source": [
    "No significant differences can be observed across clusters for the property type feature. However, the differences in some property types like townhouse (with the proportion being relatively higher for cluster 7) agrees with the observations for the numerical features."
   ]
  },
  {
   "cell_type": "code",
   "execution_count": 40,
   "metadata": {
    "scrolled": true
   },
   "outputs": [
    {
     "data": {
      "text/plain": [
       "Entire home/apt    0.863751\n",
       "Private room       0.111403\n",
       "Hotel room         0.015112\n",
       "Shared room        0.009734\n",
       "Name: room_type, dtype: float64"
      ]
     },
     "execution_count": 40,
     "metadata": {},
     "output_type": "execute_result"
    }
   ],
   "source": [
    "freqs = listing3['room_type'].value_counts()\n",
    "freqs /= freqs.sum()\n",
    "freqs.head(10)"
   ]
  },
  {
   "cell_type": "code",
   "execution_count": 41,
   "metadata": {},
   "outputs": [
    {
     "name": "stdout",
     "output_type": "stream",
     "text": [
      "Cluster 0 - 26.52%\n",
      "Cluster 1 - 11.68%\n",
      "Cluster 2 - 7.37%\n",
      "Cluster 3 - 22.07%\n",
      "Cluster 4 - 11.96%\n",
      "Cluster 5 - 0.01%\n",
      "Cluster 6 - 18.91%\n",
      "Cluster 7 - 1.49%\n"
     ]
    },
    {
     "data": {
      "text/html": [
       "<div>\n",
       "<style scoped>\n",
       "    .dataframe tbody tr th:only-of-type {\n",
       "        vertical-align: middle;\n",
       "    }\n",
       "\n",
       "    .dataframe tbody tr th {\n",
       "        vertical-align: top;\n",
       "    }\n",
       "\n",
       "    .dataframe thead th {\n",
       "        text-align: right;\n",
       "    }\n",
       "</style>\n",
       "<table border=\"1\" class=\"dataframe\">\n",
       "  <thead>\n",
       "    <tr style=\"text-align: right;\">\n",
       "      <th></th>\n",
       "      <th>0</th>\n",
       "      <th>1</th>\n",
       "      <th>2</th>\n",
       "      <th>3</th>\n",
       "      <th>4</th>\n",
       "      <th>5</th>\n",
       "      <th>6</th>\n",
       "      <th>7</th>\n",
       "    </tr>\n",
       "  </thead>\n",
       "  <tbody>\n",
       "    <tr>\n",
       "      <td>Entire home/apt</td>\n",
       "      <td>0.893524</td>\n",
       "      <td>0.890138</td>\n",
       "      <td>0.893465</td>\n",
       "      <td>0.884147</td>\n",
       "      <td>0.681030</td>\n",
       "      <td>0.571429</td>\n",
       "      <td>0.882972</td>\n",
       "      <td>0.901235</td>\n",
       "    </tr>\n",
       "    <tr>\n",
       "      <td>Private room</td>\n",
       "      <td>0.083995</td>\n",
       "      <td>0.085870</td>\n",
       "      <td>0.085092</td>\n",
       "      <td>0.092394</td>\n",
       "      <td>0.284765</td>\n",
       "      <td>0.428571</td>\n",
       "      <td>0.091287</td>\n",
       "      <td>0.074074</td>\n",
       "    </tr>\n",
       "    <tr>\n",
       "      <td>Hotel room</td>\n",
       "      <td>0.013747</td>\n",
       "      <td>0.015040</td>\n",
       "      <td>0.014409</td>\n",
       "      <td>0.015083</td>\n",
       "      <td>0.016648</td>\n",
       "      <td>NaN</td>\n",
       "      <td>0.016320</td>\n",
       "      <td>0.016274</td>\n",
       "    </tr>\n",
       "    <tr>\n",
       "      <td>Shared room</td>\n",
       "      <td>0.008734</td>\n",
       "      <td>0.008952</td>\n",
       "      <td>0.007034</td>\n",
       "      <td>0.008375</td>\n",
       "      <td>0.017557</td>\n",
       "      <td>NaN</td>\n",
       "      <td>0.009421</td>\n",
       "      <td>0.008418</td>\n",
       "    </tr>\n",
       "  </tbody>\n",
       "</table>\n",
       "</div>"
      ],
      "text/plain": [
       "                        0         1         2         3         4         5  \\\n",
       "Entire home/apt  0.893524  0.890138  0.893465  0.884147  0.681030  0.571429   \n",
       "Private room     0.083995  0.085870  0.085092  0.092394  0.284765  0.428571   \n",
       "Hotel room       0.013747  0.015040  0.014409  0.015083  0.016648       NaN   \n",
       "Shared room      0.008734  0.008952  0.007034  0.008375  0.017557       NaN   \n",
       "\n",
       "                        6         7  \n",
       "Entire home/apt  0.882972  0.901235  \n",
       "Private room     0.091287  0.074074  \n",
       "Hotel room       0.016320  0.016274  \n",
       "Shared room      0.009421  0.008418  "
      ]
     },
     "execution_count": 41,
     "metadata": {},
     "output_type": "execute_result"
    }
   ],
   "source": [
    "df_room_type = pd.DataFrame()\n",
    "\n",
    "for i in range(k):\n",
    "    print(f\"Cluster {i} - {100*counts.loc[i] / counts.sum():.2f}%\")\n",
    "    freqs = listing3[listing3[0]==i]['room_type'].value_counts()\n",
    "    freqs /= freqs.sum()\n",
    "    df_room_type[i] = freqs.head(10)\n",
    "df_room_type"
   ]
  },
  {
   "cell_type": "markdown",
   "metadata": {},
   "source": [
    "Lastly for the room type, except for the usual deviants like cluster 5 (mainly due to its small size), one cluster that hasn't distinguished itself is the middle listing clusters 1 and 4. Cluster 1 here is similar to other, becoming the cluster for all average listings. Cluster 4, on the other hand, has less proportion of it being an entire home or apartment. Unlike other clusters, cluster 4 has a larger percentage of private rooms compared to other clusters.\n",
    "\n",
    "Now that we have our clusters ready, we can proceed with providing recommendations for each cluster as to what additional amenities to add to make their listings standout."
   ]
  },
  {
   "cell_type": "markdown",
   "metadata": {},
   "source": [
    "### Recommender Systems"
   ]
  },
  {
   "cell_type": "markdown",
   "metadata": {},
   "source": [
    "From each generated clusters, recommendations are given within the clusters. For this project, the utility matrix for the recommendations is constructed from the list of amenities each listing has. What is different from this recommender system is that it only recommends from similar listings with high review scores, since the goal of the project is to find what the low-rated listings are missing. With that, the recommender system will only need the following features from the data (aside from the ID): `amenities` and `review_scores_rating`. The amenities column hold all the necessary information for creating a recommender system while review scores rating will be used to filter and improve the recommendation."
   ]
  },
  {
   "cell_type": "markdown",
   "metadata": {},
   "source": [
    "#### Data Loading"
   ]
  },
  {
   "cell_type": "code",
   "execution_count": 3,
   "metadata": {},
   "outputs": [],
   "source": [
    "fnames = pd.read_csv(\"4-actualdata.txt\", header=None)[0].str.split('data.insideairbnb.com').str[1]"
   ]
  },
  {
   "cell_type": "code",
   "execution_count": 4,
   "metadata": {},
   "outputs": [],
   "source": [
    "df_rs = dd.read_csv(f\"s3://bdcc-project-lt6/data{fnames[0]}/data/listings.csv.gz\", compression='gzip',\n",
    "                    dtype=np.str, assume_missing=True, error_bad_lines=False, blocksize=None, engine='python')"
   ]
  },
  {
   "cell_type": "code",
   "execution_count": 5,
   "metadata": {},
   "outputs": [],
   "source": [
    "dtypes = {i:np.str for i in df_rs.columns}\n",
    "dtypes['id'] = np.int64\n",
    "dtypes['amenities'] = np.str\n",
    "dtypes['review_scores_rating'] = np.float64"
   ]
  },
  {
   "cell_type": "markdown",
   "metadata": {},
   "source": [
    "Similar to clustering, the files are read line-by-line while selecting only the relevant columns."
   ]
  },
  {
   "cell_type": "code",
   "execution_count": 7,
   "metadata": {},
   "outputs": [
    {
     "name": "stdout",
     "output_type": "stream",
     "text": [
      "100.0\n"
     ]
    }
   ],
   "source": [
    "\n",
    "rs_feat = ['id', 'amenities', 'review_scores_rating']\n",
    "df_rs = dd.read_csv(f\"s3://bdcc-project-lt6/data{fnames[0]}/data/listings.csv.gz\", compression='gzip',\n",
    "                    dtype=dtypes, assume_missing=True, error_bad_lines=False, blocksize=None, engine='python')[rs_feat]\n",
    "failed_files = []\n",
    "i = 1\n",
    "for fname in fnames[1:]: #forloop instead of wildcard since different files have different columns\n",
    "    print(100*i/(len(fnames)-1))\n",
    "    try:\n",
    "        df_rs = df_rs.append(dd.read_csv(f\"s3://bdcc-project-lt6/data{fname}/data/listings.csv.gz\", compression='gzip',\n",
    "                    dtype=dtypes,\n",
    "                                         assume_missing=True,\n",
    "                                         error_bad_lines=False,\n",
    "                                         blocksize=None, engine='python')[rs_feat])#.set_index(\"id\")\n",
    "    except Exception as e:\n",
    "        failed_files.append(f\"s3://bdcc-project-lt6/data{fname}/data/listings.csv.gz\")\n",
    "    clear_output(wait=1)\n",
    "    i += 1"
   ]
  },
  {
   "cell_type": "markdown",
   "metadata": {},
   "source": [
    "#### Data Preprocessing"
   ]
  },
  {
   "cell_type": "code",
   "execution_count": 8,
   "metadata": {},
   "outputs": [],
   "source": [
    "df_rs = df_rs.repartition(npartitions=6)"
   ]
  },
  {
   "cell_type": "code",
   "execution_count": 18,
   "metadata": {},
   "outputs": [],
   "source": [
    "df_rs = df_rs.groupby(\"id\").last().persist()"
   ]
  },
  {
   "cell_type": "code",
   "execution_count": 17,
   "metadata": {},
   "outputs": [],
   "source": [
    "df_rs.to_parquet('s3://bdcc-project-lt6-tin/rs.parquet')"
   ]
  },
  {
   "cell_type": "code",
   "execution_count": 3,
   "metadata": {},
   "outputs": [],
   "source": [
    "df_rs = dd.read_parquet('s3://bdcc-project-lt6-tin/rs.parquet')"
   ]
  },
  {
   "cell_type": "markdown",
   "metadata": {},
   "source": [
    "To process the amenities, the dask DataFrame is first converted back to a pandas DataFrame and vectorized using CountVectorizer, creating the utility matrix which is saved into a parquet file."
   ]
  },
  {
   "cell_type": "code",
   "execution_count": 13,
   "metadata": {},
   "outputs": [],
   "source": [
    "df_amenities = df_rs[\"amenities\"].str.replace('\"', '').str.strip('{').str.strip('}').str.split(',').persist()#.head()"
   ]
  },
  {
   "cell_type": "code",
   "execution_count": 14,
   "metadata": {},
   "outputs": [],
   "source": [
    "df_pd = df_amenities.compute()"
   ]
  },
  {
   "cell_type": "code",
   "execution_count": 15,
   "metadata": {},
   "outputs": [],
   "source": [
    "cv = CountVectorizer(analyzer=lambda x: x, lowercase=False)\n",
    "\n",
    "df_utility = cv.fit_transform(df_pd.dropna())\n",
    "\n",
    "df_utility = pd.DataFrame(df_utility.todense(), columns=cv.get_feature_names(), index=df_pd.dropna().index)"
   ]
  },
  {
   "cell_type": "code",
   "execution_count": 16,
   "metadata": {},
   "outputs": [],
   "source": [
    "df_utility = dd.from_pandas(df_utility, npartitions=6)"
   ]
  },
  {
   "cell_type": "code",
   "execution_count": 16,
   "metadata": {},
   "outputs": [],
   "source": [
    "df_utility.to_parquet('s3://bdcc-project-lt6-tin/util.parquet')"
   ]
  },
  {
   "cell_type": "code",
   "execution_count": 17,
   "metadata": {},
   "outputs": [],
   "source": [
    "df_utility = dd.read_parquet('s3://bdcc-project-lt6-tin/util.parquet')"
   ]
  },
  {
   "cell_type": "code",
   "execution_count": 18,
   "metadata": {},
   "outputs": [
    {
     "data": {
      "text/plain": [
       "1873305"
      ]
     },
     "execution_count": 18,
     "metadata": {},
     "output_type": "execute_result"
    }
   ],
   "source": [
    "df_utility.shape[0].compute()"
   ]
  },
  {
   "cell_type": "markdown",
   "metadata": {},
   "source": [
    "From the resulting utility matrix, we can look at the frequency distribution of amenities. Most of the listings have 10 to 20 amenities with a few listings having 50 to 70 amenities. Except for a few large scale listings, it can be seen that the standards of listings is to have around 10 to 20 amenities. "
   ]
  },
  {
   "cell_type": "code",
   "execution_count": 5,
   "metadata": {},
   "outputs": [
    {
     "data": {
      "image/png": "[encoded data removed]",
      "text/plain": [
       "<Figure size 576x396 with 1 Axes>"
      ]
     },
     "metadata": {},
     "output_type": "display_data"
    }
   ],
   "source": [
    "import matplotlib.pyplot as plt\n",
    "%matplotlib inline\n",
    "plt.style.use('seaborn')\n",
    "freq_amen = df_utility.sum(axis=1).compute()\n",
    "plt.hist(freq_amen, bins=list(range(0, 100, 10)), histtype='bar', log=False)\n",
    "plt.xlabel('number of amenities')\n",
    "plt.ylabel('frequency');"
   ]
  },
  {
   "cell_type": "markdown",
   "metadata": {},
   "source": [
    "<div align='justify'>Now, we want to see if the number of amenities of a listing affects the review on that listing. If the two are positively correlated, then our recommendations may simply be to continuously add amenities for it to improve, which may make the project uninsightful. If not, what matters is not simply adding new amenities but also which specific amenity to add, which brings the point of our recommender system - suggesting which amenities to add to keep up with the competition.\n",
    "</div>\n",
    "<br>\n",
    "<div align='justify'>\n",
    "From the plot below, it can be seen that for those listings with very high number of amenities (>80), the reviews are also correspondingly high. This may simply be a small correlation since listings with high number of amenities are heavily invested upon, which can correlate with the care and services for that listing, leading to the high reviews. However, the opposite end (low number of amenities) doesn't say the same thing. That is, for listings with low number of amenities, their review scores are uncorrelated with the number of amenities.\n",
    "</div>"
   ]
  },
  {
   "cell_type": "code",
   "execution_count": 8,
   "metadata": {},
   "outputs": [],
   "source": [
    "df_plot = pd.DataFrame()\n",
    "\n",
    "df_plot['count_amen'] = freq_amen\n",
    "df_plot['reviews'] = df_rs['review_scores_rating'].compute()"
   ]
  },
  {
   "cell_type": "code",
   "execution_count": 12,
   "metadata": {},
   "outputs": [
    {
     "data": {
      "text/plain": [
       "<matplotlib.axes._subplots.AxesSubplot at 0x7f57bbda1cc0>"
      ]
     },
     "execution_count": 12,
     "metadata": {},
     "output_type": "execute_result"
    },
    {
     "data": {
      "image/png": "[encoded data removed]",
      "text/plain": [
       "<Figure size 576x396 with 1 Axes>"
      ]
     },
     "metadata": {},
     "output_type": "display_data"
    }
   ],
   "source": [
    "df_plot.plot.scatter('count_amen', 'reviews')"
   ]
  },
  {
   "cell_type": "markdown",
   "metadata": {},
   "source": [
    "Looking at their overall correlation, we find a 0.1558 correlation between the two variables, indicating a weak relationship."
   ]
  },
  {
   "cell_type": "code",
   "execution_count": 15,
   "metadata": {},
   "outputs": [
    {
     "data": {
      "text/plain": [
       "0.15584052425977038"
      ]
     },
     "execution_count": 15,
     "metadata": {},
     "output_type": "execute_result"
    }
   ],
   "source": [
    "df_plot.corr().iloc[0, 1]"
   ]
  },
  {
   "cell_type": "markdown",
   "metadata": {},
   "source": [
    "<div align='justify'>Now, since the recommending listings will be filtered to highly rated listings while the listings to make recommendations to are those with low ratings, we look at the distribution of review scores to make a decision on the threshold of high-rated and low-rated listings. Note that the distribution is in y-log scale so it can be seen that there are significantly large amount of listings with very high reviews (>95). And so, the high-rated listings considered are those with review scores from 95 and above.\n",
    "</div>\n",
    "<br>\n",
    "<div align='justify'>\n",
    "For the low-rated listings, while the distribution shows that most of them have ratings near 20, we also want to consider those around 40 to 60 since BnB is a very competitive market and having review scores around those range can also be considered low. So the low-rated listings are those with review scores lower than 60.\n",
    "</div>"
   ]
  },
  {
   "cell_type": "code",
   "execution_count": 16,
   "metadata": {},
   "outputs": [
    {
     "data": {
      "image/png": "[encoded data removed]",
      "text/plain": [
       "<Figure size 576x396 with 1 Axes>"
      ]
     },
     "metadata": {},
     "output_type": "display_data"
    }
   ],
   "source": [
    "freq = df_rs['review_scores_rating'].dropna().astype(float).compute()\n",
    "plt.hist(freq, bins=list(range(0, 100, 10)), histtype='bar', log=True)\n",
    "plt.xlabel('review scores')\n",
    "plt.ylabel('frequency')"
   ]
  },
  {
   "cell_type": "markdown",
   "metadata": {},
   "source": [
    "#### Filtering data by Ratings"
   ]
  },
  {
   "cell_type": "code",
   "execution_count": 11,
   "metadata": {},
   "outputs": [],
   "source": [
    "recommended_users = df_rs['review_scores_rating'][df_rs['review_scores_rating']\n",
    "                                                  > 95].index.compute()\n",
    "df_utility_high_rating = df_utility.map_partitions(\n",
    "    lambda x: x[x.index.isin(recommended_users)]).persist()"
   ]
  },
  {
   "cell_type": "code",
   "execution_count": 12,
   "metadata": {},
   "outputs": [],
   "source": [
    "low_rating_users = df_rs['review_scores_rating'][df_rs['review_scores_rating']\n",
    "                                                 < 60].index.compute()\n",
    "df_utility_low_rating = df_utility.map_partitions(\n",
    "    lambda x: x[x.index.isin(low_rating_users)]).persist()"
   ]
  },
  {
   "cell_type": "code",
   "execution_count": 13,
   "metadata": {},
   "outputs": [],
   "source": [
    "df_utility_high_rating.to_parquet(\n",
    "    's3://bdcc-project-lt6-tin/high-rating.parquet')\n",
    "df_utility_low_rating.to_parquet(\n",
    "    's3://bdcc-project-lt6-tin/low-rating.parquet')"
   ]
  },
  {
   "cell_type": "markdown",
   "metadata": {},
   "source": [
    "Aside from the overall characteristics, we also want to look at the characteristics of the listings per cluster. Specifically, we want to look at the most common amenities in each cluster to see the difference between what we recommend and what is the general amenities for each cluster. But before that, the results from the clustering must be loaded first."
   ]
  },
  {
   "cell_type": "code",
   "execution_count": 163,
   "metadata": {},
   "outputs": [],
   "source": [
    "clusters = dd.read_parquet(\n",
    "    's3://bdcc-project-lt6-tin/listing_with_cluster.parquet')"
   ]
  },
  {
   "cell_type": "code",
   "execution_count": 164,
   "metadata": {},
   "outputs": [],
   "source": [
    "cluss = sorted(clusters['clusters'].unique())"
   ]
  },
  {
   "cell_type": "code",
   "execution_count": 165,
   "metadata": {},
   "outputs": [],
   "source": [
    "id_cluss = {}\n",
    "for clus in cluss:\n",
    "    id_cluss[clus] = clusters[clusters['clusters']\n",
    "                              == clus].id.compute().to_list()"
   ]
  },
  {
   "cell_type": "code",
   "execution_count": 6,
   "metadata": {},
   "outputs": [],
   "source": [
    "with open('clus.json', 'w') as fout:\n",
    "    json.dump(id_cluss, fout)"
   ]
  },
  {
   "cell_type": "markdown",
   "metadata": {},
   "source": [
    "#### Looking at amenities per Cluster"
   ]
  },
  {
   "cell_type": "markdown",
   "metadata": {},
   "source": [
    "After loading the clusters, we investigate the common utilities or amenities per cluster. Specifically, we look at the average value per amenity. Note that the data only displays the presence or absence of an amenity so by taking the average, we get the proportion of the listings for each cluster that has each specific amenity. As can be seen from the heatmap below, the order of the amenities are not necessarily the same but the differences in order across the clusters only vary slightly. This characteristic may be due to how fundamental the amenities are which can be universal and may not vary across clusters. Since the listings are constrained to Paris, amenities like kitchen, heating, and living essentials are always among the top 3, regardless of the cluster. We use a heatmap to look at the ranking of each amenity per cluster where the annotated text corresponds to the ranking.\n",
    "\n",
    "*Cluster 5 / Ultra high end cluster is ignored due to small size (7 listings), none of which are low-rated."
   ]
  },
  {
   "cell_type": "code",
   "execution_count": 154,
   "metadata": {},
   "outputs": [],
   "source": [
    "cluster_names = {0: \"Lower-middle\", 1: \"Middle (entire home)\", 2: \"Upper-middle\", 3: \"Low end\",\n",
    "                 4: \"Middle (Private rooms)\", 5: \"Ultra high end\", 6: \"Ultra low end\", 7: \"High end\"}"
   ]
  },
  {
   "cell_type": "code",
   "execution_count": 20,
   "metadata": {},
   "outputs": [],
   "source": [
    "clusters = clusters[['id', 'clusters']]"
   ]
  },
  {
   "cell_type": "code",
   "execution_count": 157,
   "metadata": {},
   "outputs": [],
   "source": [
    "df_util_summary = pd.DataFrame()\n",
    "for i in cluss:\n",
    "    if i==5:#cluster 5 is removed for RS since we cannot make recommendations in it due to the small size\n",
    "        continue \n",
    "    df_i = df_utility.map_partitions(lambda x: x[x.index.isin(clusters[clusters['clusters']==i].id)])\n",
    "    result_i = df_i.mean(axis=0).compute()\n",
    "    df_util_summary[cluster_names[i]] = result_i.sort_values(ascending=False)[:20]"
   ]
  },
  {
   "cell_type": "code",
   "execution_count": 158,
   "metadata": {},
   "outputs": [
    {
     "data": {
      "text/html": [
       "<div>\n",
       "<style scoped>\n",
       "    .dataframe tbody tr th:only-of-type {\n",
       "        vertical-align: middle;\n",
       "    }\n",
       "\n",
       "    .dataframe tbody tr th {\n",
       "        vertical-align: top;\n",
       "    }\n",
       "\n",
       "    .dataframe thead th {\n",
       "        text-align: right;\n",
       "    }\n",
       "</style>\n",
       "<table border=\"1\" class=\"dataframe\">\n",
       "  <thead>\n",
       "    <tr style=\"text-align: right;\">\n",
       "      <th></th>\n",
       "      <th>Lower-middle</th>\n",
       "      <th>Middle (entire home)</th>\n",
       "      <th>Upper-middle</th>\n",
       "      <th>Low end</th>\n",
       "      <th>Middle (Private rooms)</th>\n",
       "      <th>Ultra low end</th>\n",
       "      <th>High end</th>\n",
       "    </tr>\n",
       "  </thead>\n",
       "  <tbody>\n",
       "    <tr>\n",
       "      <td>Kitchen</td>\n",
       "      <td>0.941512</td>\n",
       "      <td>0.945212</td>\n",
       "      <td>0.940663</td>\n",
       "      <td>0.940918</td>\n",
       "      <td>0.908156</td>\n",
       "      <td>0.936400</td>\n",
       "      <td>0.946689</td>\n",
       "    </tr>\n",
       "    <tr>\n",
       "      <td>Heating</td>\n",
       "      <td>0.936940</td>\n",
       "      <td>0.933682</td>\n",
       "      <td>0.936238</td>\n",
       "      <td>0.939516</td>\n",
       "      <td>0.928022</td>\n",
       "      <td>0.930694</td>\n",
       "      <td>0.931538</td>\n",
       "    </tr>\n",
       "    <tr>\n",
       "      <td>Essentials</td>\n",
       "      <td>0.915689</td>\n",
       "      <td>0.917926</td>\n",
       "      <td>0.919560</td>\n",
       "      <td>0.921893</td>\n",
       "      <td>0.908016</td>\n",
       "      <td>0.922114</td>\n",
       "      <td>0.916386</td>\n",
       "    </tr>\n",
       "    <tr>\n",
       "      <td>Wifi</td>\n",
       "      <td>0.865494</td>\n",
       "      <td>0.867006</td>\n",
       "      <td>0.873156</td>\n",
       "      <td>0.868117</td>\n",
       "      <td>0.866046</td>\n",
       "      <td>0.861256</td>\n",
       "      <td>0.872615</td>\n",
       "    </tr>\n",
       "    <tr>\n",
       "      <td>Washer</td>\n",
       "      <td>0.747099</td>\n",
       "      <td>0.777698</td>\n",
       "      <td>0.793057</td>\n",
       "      <td>0.761701</td>\n",
       "      <td>0.729715</td>\n",
       "      <td>0.706678</td>\n",
       "      <td>0.767677</td>\n",
       "    </tr>\n",
       "    <tr>\n",
       "      <td>Hangers</td>\n",
       "      <td>0.673698</td>\n",
       "      <td>0.669627</td>\n",
       "      <td>0.688337</td>\n",
       "      <td>0.686247</td>\n",
       "      <td>0.654938</td>\n",
       "      <td>0.680142</td>\n",
       "      <td>0.707071</td>\n",
       "    </tr>\n",
       "    <tr>\n",
       "      <td>Smoke detector</td>\n",
       "      <td>0.660203</td>\n",
       "      <td>0.667407</td>\n",
       "      <td>0.680281</td>\n",
       "      <td>0.678137</td>\n",
       "      <td>0.664452</td>\n",
       "      <td>0.669084</td>\n",
       "      <td>0.713244</td>\n",
       "    </tr>\n",
       "    <tr>\n",
       "      <td>TV</td>\n",
       "      <td>0.641380</td>\n",
       "      <td>0.669484</td>\n",
       "      <td>0.682664</td>\n",
       "      <td>0.660856</td>\n",
       "      <td>0.599538</td>\n",
       "      <td>0.632287</td>\n",
       "      <td>0.670595</td>\n",
       "    </tr>\n",
       "    <tr>\n",
       "      <td>Hair dryer</td>\n",
       "      <td>0.638605</td>\n",
       "      <td>0.639619</td>\n",
       "      <td>0.662015</td>\n",
       "      <td>0.643461</td>\n",
       "      <td>0.624021</td>\n",
       "      <td>0.636533</td>\n",
       "      <td>0.690236</td>\n",
       "    </tr>\n",
       "    <tr>\n",
       "      <td>Iron</td>\n",
       "      <td>0.633277</td>\n",
       "      <td>0.640908</td>\n",
       "      <td>0.657477</td>\n",
       "      <td>0.644484</td>\n",
       "      <td>0.602406</td>\n",
       "      <td>0.625254</td>\n",
       "      <td>0.678451</td>\n",
       "    </tr>\n",
       "    <tr>\n",
       "      <td>Shampoo</td>\n",
       "      <td>0.599035</td>\n",
       "      <td>0.596792</td>\n",
       "      <td>0.604720</td>\n",
       "      <td>0.599159</td>\n",
       "      <td>0.588836</td>\n",
       "      <td>0.592083</td>\n",
       "      <td>0.609989</td>\n",
       "    </tr>\n",
       "    <tr>\n",
       "      <td>Laptop friendly workspace</td>\n",
       "      <td>0.572140</td>\n",
       "      <td>0.572585</td>\n",
       "      <td>0.586226</td>\n",
       "      <td>0.576496</td>\n",
       "      <td>0.549314</td>\n",
       "      <td>0.565856</td>\n",
       "      <td>0.617284</td>\n",
       "    </tr>\n",
       "    <tr>\n",
       "      <td>Hot water</td>\n",
       "      <td>0.436940</td>\n",
       "      <td>0.439017</td>\n",
       "      <td>0.453597</td>\n",
       "      <td>0.443476</td>\n",
       "      <td>0.438864</td>\n",
       "      <td>0.445909</td>\n",
       "      <td>0.482043</td>\n",
       "    </tr>\n",
       "    <tr>\n",
       "      <td>Elevator</td>\n",
       "      <td>0.399578</td>\n",
       "      <td>0.437943</td>\n",
       "      <td>0.450306</td>\n",
       "      <td>0.414068</td>\n",
       "      <td>0.427882</td>\n",
       "      <td>0.408757</td>\n",
       "      <td>0.432099</td>\n",
       "    </tr>\n",
       "    <tr>\n",
       "      <td>Internet</td>\n",
       "      <td>0.335288</td>\n",
       "      <td>0.342978</td>\n",
       "      <td>0.346154</td>\n",
       "      <td>0.317164</td>\n",
       "      <td>0.296167</td>\n",
       "      <td>0.263866</td>\n",
       "      <td>0.320426</td>\n",
       "    </tr>\n",
       "    <tr>\n",
       "      <td>Family/kid friendly</td>\n",
       "      <td>0.312807</td>\n",
       "      <td>0.433288</td>\n",
       "      <td>0.454618</td>\n",
       "      <td>0.380263</td>\n",
       "      <td>0.301343</td>\n",
       "      <td>0.272888</td>\n",
       "      <td>0.425365</td>\n",
       "    </tr>\n",
       "    <tr>\n",
       "      <td>Refrigerator</td>\n",
       "      <td>0.265670</td>\n",
       "      <td>0.281959</td>\n",
       "      <td>0.294985</td>\n",
       "      <td>0.288400</td>\n",
       "      <td>0.265599</td>\n",
       "      <td>0.282353</td>\n",
       "      <td>0.306397</td>\n",
       "    </tr>\n",
       "    <tr>\n",
       "      <td>Dryer</td>\n",
       "      <td>0.265260</td>\n",
       "      <td>0.305808</td>\n",
       "      <td>0.351146</td>\n",
       "      <td>0.279266</td>\n",
       "      <td>0.250560</td>\n",
       "      <td>0.253074</td>\n",
       "      <td>0.368687</td>\n",
       "    </tr>\n",
       "    <tr>\n",
       "      <td>Bed linens</td>\n",
       "      <td>0.251450</td>\n",
       "      <td>NaN</td>\n",
       "      <td>NaN</td>\n",
       "      <td>0.268276</td>\n",
       "      <td>0.256016</td>\n",
       "      <td>0.269748</td>\n",
       "      <td>0.292929</td>\n",
       "    </tr>\n",
       "    <tr>\n",
       "      <td>Dishes and silverware</td>\n",
       "      <td>0.249559</td>\n",
       "      <td>0.267135</td>\n",
       "      <td>0.277173</td>\n",
       "      <td>0.270664</td>\n",
       "      <td>0.249021</td>\n",
       "      <td>0.263556</td>\n",
       "      <td>0.296296</td>\n",
       "    </tr>\n",
       "  </tbody>\n",
       "</table>\n",
       "</div>"
      ],
      "text/plain": [
       "                           Lower-middle  Middle (entire home)  Upper-middle  \\\n",
       "Kitchen                        0.941512              0.945212      0.940663   \n",
       "Heating                        0.936940              0.933682      0.936238   \n",
       "Essentials                     0.915689              0.917926      0.919560   \n",
       "Wifi                           0.865494              0.867006      0.873156   \n",
       "Washer                         0.747099              0.777698      0.793057   \n",
       "Hangers                        0.673698              0.669627      0.688337   \n",
       "Smoke detector                 0.660203              0.667407      0.680281   \n",
       "TV                             0.641380              0.669484      0.682664   \n",
       "Hair dryer                     0.638605              0.639619      0.662015   \n",
       "Iron                           0.633277              0.640908      0.657477   \n",
       "Shampoo                        0.599035              0.596792      0.604720   \n",
       "Laptop friendly workspace      0.572140              0.572585      0.586226   \n",
       "Hot water                      0.436940              0.439017      0.453597   \n",
       "Elevator                       0.399578              0.437943      0.450306   \n",
       "Internet                       0.335288              0.342978      0.346154   \n",
       "Family/kid friendly            0.312807              0.433288      0.454618   \n",
       "Refrigerator                   0.265670              0.281959      0.294985   \n",
       "Dryer                          0.265260              0.305808      0.351146   \n",
       "Bed linens                     0.251450                   NaN           NaN   \n",
       "Dishes and silverware          0.249559              0.267135      0.277173   \n",
       "\n",
       "                            Low end  Middle (Private rooms)  Ultra low end  \\\n",
       "Kitchen                    0.940918                0.908156       0.936400   \n",
       "Heating                    0.939516                0.928022       0.930694   \n",
       "Essentials                 0.921893                0.908016       0.922114   \n",
       "Wifi                       0.868117                0.866046       0.861256   \n",
       "Washer                     0.761701                0.729715       0.706678   \n",
       "Hangers                    0.686247                0.654938       0.680142   \n",
       "Smoke detector             0.678137                0.664452       0.669084   \n",
       "TV                         0.660856                0.599538       0.632287   \n",
       "Hair dryer                 0.643461                0.624021       0.636533   \n",
       "Iron                       0.644484                0.602406       0.625254   \n",
       "Shampoo                    0.599159                0.588836       0.592083   \n",
       "Laptop friendly workspace  0.576496                0.549314       0.565856   \n",
       "Hot water                  0.443476                0.438864       0.445909   \n",
       "Elevator                   0.414068                0.427882       0.408757   \n",
       "Internet                   0.317164                0.296167       0.263866   \n",
       "Family/kid friendly        0.380263                0.301343       0.272888   \n",
       "Refrigerator               0.288400                0.265599       0.282353   \n",
       "Dryer                      0.279266                0.250560       0.253074   \n",
       "Bed linens                 0.268276                0.256016       0.269748   \n",
       "Dishes and silverware      0.270664                0.249021       0.263556   \n",
       "\n",
       "                           High end  \n",
       "Kitchen                    0.946689  \n",
       "Heating                    0.931538  \n",
       "Essentials                 0.916386  \n",
       "Wifi                       0.872615  \n",
       "Washer                     0.767677  \n",
       "Hangers                    0.707071  \n",
       "Smoke detector             0.713244  \n",
       "TV                         0.670595  \n",
       "Hair dryer                 0.690236  \n",
       "Iron                       0.678451  \n",
       "Shampoo                    0.609989  \n",
       "Laptop friendly workspace  0.617284  \n",
       "Hot water                  0.482043  \n",
       "Elevator                   0.432099  \n",
       "Internet                   0.320426  \n",
       "Family/kid friendly        0.425365  \n",
       "Refrigerator               0.306397  \n",
       "Dryer                      0.368687  \n",
       "Bed linens                 0.292929  \n",
       "Dishes and silverware      0.296296  "
      ]
     },
     "execution_count": 158,
     "metadata": {},
     "output_type": "execute_result"
    }
   ],
   "source": [
    "df_util_summary"
   ]
  },
  {
   "cell_type": "code",
   "execution_count": 180,
   "metadata": {},
   "outputs": [
    {
     "data": {
      "image/png": "[encoded data removed]",
      "text/plain": [
       "<Figure size 576x720 with 1 Axes>"
      ]
     },
     "metadata": {
      "needs_background": "light"
     },
     "output_type": "display_data"
    }
   ],
   "source": [
    "fig,ax = plt.subplots(figsize=(8,10))\n",
    "hm = sns.heatmap(df_util_summary.rank(ascending=False), cmap='Greens', annot=True, ax=ax, cbar=False);\n",
    "hm.set_xticklabels(labels=hm.get_xticklabels(), rotation=45, ha='right');"
   ]
  },
  {
   "cell_type": "markdown",
   "metadata": {
    "ExecuteTime": {
     "end_time": "2019-12-28T10:36:50.553669Z",
     "start_time": "2019-12-28T10:36:50.545657Z"
    }
   },
   "source": [
    "#### User-Based Collaborative Filtering Recommender System"
   ]
  },
  {
   "cell_type": "markdown",
   "metadata": {},
   "source": [
    "For user-based collaborative filtering recommender system, we have to choose a pre-processing technique and a distance measure to use in order to determine which listings are the nearest neighbors. Note that the utility matrix here has rows equivalent to all the listings, columns for all the amenities, and value of 1 or 0 if the listing has the amenity. We do not perform any pre-processing as the utility matrix already looks like a rounded data due to the implicit nature of the ratings. \n",
    "\n",
    "The distance measure used will be Jaccard distance but we must also take into consideration the difference in number of amenities the two listing has. While Jaccard already takes into account the gap between the number of amenities the two listings being compared has, we want to further emphasize the distance two listings will have if they have significant difference in the number of amenities they have. As such, we define the distance measure as:\n",
    "\n",
    "$$distance = 0.75 \\times Jaccard(Amenities_a, Amenities_b) + 0.25 \\times \\text{abs}\\left( \\frac{|Amenities_a| - |Amenities_b|}{|Amenities|} \\right)$$\n",
    "\n",
    "where $a$ is a listing with low rating (`review_scores_rating` < 60) while $b$ is a listing with high rating (`review_scores_rating` > 95), $Amenities$ is the set of amenities."
   ]
  },
  {
   "cell_type": "code",
   "execution_count": 161,
   "metadata": {},
   "outputs": [],
   "source": [
    "df_utility_high_rating = dd.read_parquet('s3://bdcc-project-lt6-tin/high-rating.parquet')\n",
    "df_utility_low_rating = dd.read_parquet('s3://bdcc-project-lt6-tin/low-rating.parquet')"
   ]
  },
  {
   "cell_type": "code",
   "execution_count": 6,
   "metadata": {},
   "outputs": [],
   "source": [
    "N_neigh = 100\n",
    "\n",
    "\n",
    "def f(x, user): return (0.75*np.abs(x - user).sum() / ((x + user) != 0).sum()\n",
    "                        + 0.25*np.abs(x.sum() - user.sum()) / len(user))\n",
    "\n",
    "\n",
    "def recommend_to_user(user):\n",
    "    idx_neighbors = df_utility_high_rating_clus.apply(f,\n",
    "                          axis=1,\n",
    "                          args=(user,),\n",
    "                          meta=(None, np.float64)).reset_index().set_index(0)\n",
    "                          .head(N_neigh)\n",
    "\n",
    "    amen_recom = df_utility_high_rating_clus.map_partitions(\n",
    "        lambda x: x[x.index.isin(idx_neighbors['id'])]).mean()\n",
    "\n",
    "    user_amen = user[user == 1].index\n",
    "#     amen_recom = amen_recom.map_partitions(lambda x: x[~x.index.isin(user_amen)]) #removes amenities existing for the user\n",
    "# don't remove the amenities already existing for the user. we may need it later (we can remove it later on anyway)\n",
    "\n",
    "    return amen_recom[amen_recom > 0.2].compute()\n",
    "\n",
    "\n",
    "delayed_func = delayed(recommend_to_user)"
   ]
  },
  {
   "cell_type": "markdown",
   "metadata": {},
   "source": [
    "Before doing the recommendation, we first check the number of listings per cluster with low-ratings (<60) and high-ratings (>95):"
   ]
  },
  {
   "cell_type": "code",
   "execution_count": 168,
   "metadata": {},
   "outputs": [
    {
     "name": "stdout",
     "output_type": "stream",
     "text": [
      "Lower-middle cluster\n",
      "Low: 229\n",
      "High: 10099 \n",
      "\n",
      "Middle (entire home) cluster\n",
      "Low: 108\n",
      "High: 4606 \n",
      "\n",
      "Upper-middle cluster\n",
      "Low: 72\n",
      "High: 2801 \n",
      "\n",
      "Low end cluster\n",
      "Low: 246\n",
      "High: 8135 \n",
      "\n",
      "Middle (Private rooms) cluster\n",
      "Low: 103\n",
      "High: 4539 \n",
      "\n",
      "Ultra high end cluster\n",
      "Low: 0\n",
      "High: 2 \n",
      "\n",
      "Ultra low end cluster\n",
      "Low: 196\n",
      "High: 6865 \n",
      "\n",
      "High end cluster\n",
      "Low: 9\n",
      "High: 616 \n",
      "\n"
     ]
    }
   ],
   "source": [
    "df_utility_low_rating = df_utility_low_rating.persist()\n",
    "df_utility_high_rating = df_utility_high_rating.persist()\n",
    "\n",
    "for i in cluss:\n",
    "    print(cluster_names[i], \"cluster\")\n",
    "    id_clus = id_cluss[i]\n",
    "    df_utility_low_rating_clus = df_utility_low_rating.map_partitions(lambda x: x[x.index.isin(id_clus)])\n",
    "    df_utility_high_rating_clus = df_utility_high_rating.map_partitions(lambda x: x[x.index.isin(id_clus)])\n",
    "    print(\"Low:\", df_utility_low_rating_clus.shape[0].compute())\n",
    "    print(\"High:\", df_utility_high_rating_clus.shape[0].compute(), \"\\n\")"
   ]
  },
  {
   "cell_type": "markdown",
   "metadata": {},
   "source": [
    "<div align='justify'>Due to small number of listings on it, no recommendations will be done within the ultra high end cluster. The following set of codes is generating recommendations of amenities per cluster. For each cluster, 100 low-rated listings are given recommendations to at most (if possible). The resulting recommendations are stored into a pickle file for later use. Since the recommendations per user are independent of each other, the code is highly parallelizable. However, doing so for 100 at a time causes killed workers and memory error. So, the recommendations are done 10 users at a time.</div>"
   ]
  },
  {
   "cell_type": "code",
   "execution_count": null,
   "metadata": {},
   "outputs": [],
   "source": [
    "### Cluster 0"
   ]
  },
  {
   "cell_type": "code",
   "execution_count": 41,
   "metadata": {},
   "outputs": [],
   "source": [
    "id_clus = id_cluss['0']\n",
    "df_utility_low_rating_clus = df_utility_low_rating.map_partitions(lambda x: x[x.index.isin(id_clus)])\n",
    "df_utility_high_rating_clus = df_utility_high_rating.map_partitions(lambda x: x[x.index.isin(id_clus)])\n",
    "users_100 = df_utility_low_rating_clus.compute().sample(100, random_state=42)\n",
    "recommend_amenities_clus_0 = {}\n",
    "\n",
    "for i in range(1, 11): #we do the recommendations 10 users at a time since the dask delayed functions cause a memory error and killed workers otherwise\n",
    "    print(i)\n",
    "    recommend_i = {}\n",
    "    for user_id, user in users_100.iloc[(i-1)*10:(i)*10].iterrows():\n",
    "        recommend_i[user_id] = delayed_func(user)\n",
    "    results0 = dask.compute(recommend_i, scheduler='distributed',\n",
    "                           num_workers=6)   \n",
    "    print(len(results0[0]))\n",
    "    \n",
    "    recommend_amenities_clus_0.update(results0[0])"
   ]
  },
  {
   "cell_type": "code",
   "execution_count": 8,
   "metadata": {},
   "outputs": [],
   "source": [
    "with open('rs_clus0.pkl', 'wb') as f:\n",
    "    pickle.dump(recommend_amenities_clus_0, f)\n"
   ]
  },
  {
   "cell_type": "code",
   "execution_count": null,
   "metadata": {},
   "outputs": [],
   "source": [
    "### Cluster 1"
   ]
  },
  {
   "cell_type": "code",
   "execution_count": 42,
   "metadata": {},
   "outputs": [],
   "source": [
    "id_clus = id_cluss['1']\n",
    "df_utility_low_rating_clus = df_utility_low_rating.map_partitions(lambda x: x[x.index.isin(id_clus)])\n",
    "df_utility_high_rating_clus = df_utility_high_rating.map_partitions(lambda x: x[x.index.isin(id_clus)])\n",
    "users_100 = df_utility_low_rating_clus.compute().sample(100, random_state=42)\n",
    "recommend_amenities_clus_1 = {}\n",
    "\n",
    "for i in range(1, 11):\n",
    "    print(i)\n",
    "    recommend_i = {}\n",
    "    for user_id, user in users_100.iloc[(i-1)*10:(i)*10].iterrows():\n",
    "        recommend_i[user_id] = delayed_func(user)\n",
    "    results = dask.compute(recommend_i, scheduler='distributed',\n",
    "                           num_workers=12)   \n",
    "    \n",
    "    recommend_amenities_clus_1.update(results[0])"
   ]
  },
  {
   "cell_type": "code",
   "execution_count": 8,
   "metadata": {},
   "outputs": [],
   "source": [
    "with open('rs_clus1.pkl', 'wb') as f:\n",
    "    pickle.dump(recommend_amenities_clus_1, f)"
   ]
  },
  {
   "cell_type": "code",
   "execution_count": null,
   "metadata": {},
   "outputs": [],
   "source": [
    "### Cluster 2"
   ]
  },
  {
   "cell_type": "code",
   "execution_count": 43,
   "metadata": {},
   "outputs": [],
   "source": [
    "id_clus = id_cluss['2']\n",
    "df_utility_low_rating_clus = df_utility_low_rating.map_partitions(lambda x: x[x.index.isin(id_clus)])\n",
    "df_utility_high_rating_clus = df_utility_high_rating.map_partitions(lambda x: x[x.index.isin(id_clus)])\n",
    "users_100 = df_utility_low_rating_clus.compute()#.sample(100, random_state=42)\n",
    "\n",
    "recommend_amenities_clus_2 = {}\n",
    "\n",
    "for i in range(1, 11):\n",
    "    print(i)\n",
    "    recommend_i = {}\n",
    "    for user_id, user in users_100.iloc[(i-1)*10:(i)*10].iterrows():\n",
    "        recommend_i[user_id] = delayed_func(user)\n",
    "    results = dask.compute(recommend_i, scheduler='distributed',\n",
    "                           num_workers=12)   \n",
    "    print(len(results[0]))\n",
    "    recommend_amenities_clus_2.update(results[0])\n",
    "    if len(results[0])==0:\n",
    "        break"
   ]
  },
  {
   "cell_type": "code",
   "execution_count": 13,
   "metadata": {},
   "outputs": [],
   "source": [
    "with open('rs_clus2.pkl', 'wb') as f:\n",
    "    pickle.dump(recommend_amenities_clus_2, f)\n"
   ]
  },
  {
   "cell_type": "code",
   "execution_count": null,
   "metadata": {},
   "outputs": [],
   "source": [
    "### Cluster 3"
   ]
  },
  {
   "cell_type": "code",
   "execution_count": 44,
   "metadata": {},
   "outputs": [],
   "source": [
    "id_clus = id_cluss['3']\n",
    "df_utility_low_rating_clus = df_utility_low_rating.map_partitions(lambda x: x[x.index.isin(id_clus)])\n",
    "df_utility_high_rating_clus = df_utility_high_rating.map_partitions(lambda x: x[x.index.isin(id_clus)])\n",
    "users_100 = df_utility_low_rating_clus.compute().sample(100, random_state=42)\n",
    "\n",
    "recommend_amenities_clus_3 = {}\n",
    "\n",
    "for i in range(1, 11):\n",
    "    print(i)\n",
    "    recommend_i = {}\n",
    "    for user_id, user in users_100.iloc[(i-1)*10:(i)*10].iterrows():\n",
    "        recommend_i[user_id] = delayed_func(user)\n",
    "    results = dask.compute(recommend_i, scheduler='distributed',\n",
    "                           num_workers=12)   \n",
    "\n",
    "    print(len(results[0]))\n",
    "    recommend_amenities_clus_3.update(results[0])\n",
    "    if len(results[0])==0:\n",
    "        break    "
   ]
  },
  {
   "cell_type": "code",
   "execution_count": 8,
   "metadata": {},
   "outputs": [],
   "source": [
    "with open('rs_clus3.pkl', 'wb') as f:\n",
    "    pickle.dump(recommend_amenities_clus_3, f)\n"
   ]
  },
  {
   "cell_type": "code",
   "execution_count": null,
   "metadata": {},
   "outputs": [],
   "source": [
    "### Cluster 4"
   ]
  },
  {
   "cell_type": "code",
   "execution_count": 47,
   "metadata": {},
   "outputs": [],
   "source": [
    "id_clus = id_cluss['4']\n",
    "df_utility_low_rating_clus = df_utility_low_rating.map_partitions(lambda x: x[x.index.isin(id_clus)])\n",
    "df_utility_high_rating_clus = df_utility_high_rating.map_partitions(lambda x: x[x.index.isin(id_clus)])\n",
    "users_100 = df_utility_low_rating_clus.compute().sample(100, random_state=42)\n",
    "\n",
    "recommend_amenities_clus_4 = {}\n",
    "\n",
    "for i in range(1, 11):\n",
    "    print(i)\n",
    "    recommend_i = {}\n",
    "    for user_id, user in users_100.iloc[(i-1)*10:(i)*10].iterrows():\n",
    "        recommend_i[user_id] = delayed_func(user)\n",
    "    results = dask.compute(recommend_i, scheduler='distributed',\n",
    "                           num_workers=12)   \n",
    "    \n",
    "\n",
    "    print(len(results[0]))\n",
    "    recommend_amenities_clus_4.update(results[0])\n",
    "    if len(results[0])==0:\n",
    "        break    "
   ]
  },
  {
   "cell_type": "code",
   "execution_count": 8,
   "metadata": {},
   "outputs": [],
   "source": [
    "with open('rs_clus4.pkl', 'wb') as f:\n",
    "    pickle.dump(recommend_amenities_clus_4, f)\n"
   ]
  },
  {
   "cell_type": "code",
   "execution_count": null,
   "metadata": {},
   "outputs": [],
   "source": [
    "### Cluster 6"
   ]
  },
  {
   "cell_type": "code",
   "execution_count": 45,
   "metadata": {},
   "outputs": [],
   "source": [
    "id_clus = id_cluss['6']\n",
    "df_utility_low_rating_clus = df_utility_low_rating.map_partitions(lambda x: x[x.index.isin(id_clus)])\n",
    "df_utility_high_rating_clus = df_utility_high_rating.map_partitions(lambda x: x[x.index.isin(id_clus)])\n",
    "users_100 = df_utility_low_rating_clus.compute().sample(100, random_state=42)\n",
    "\n",
    "recommend_amenities_clus_6 = {}\n",
    "\n",
    "for i in range(1, 11):\n",
    "    print(i)\n",
    "    recommend_i = {}\n",
    "    for user_id, user in users_100.iloc[(i-1)*10:(i)*10].iterrows():\n",
    "        recommend_i[user_id] = delayed_func(user)\n",
    "    results = dask.compute(recommend_i, scheduler='distributed',\n",
    "                           num_workers=12)       \n",
    "\n",
    "    print(len(results[0]))\n",
    "    recommend_amenities_clus_6.update(results[0])\n",
    "    if len(results[0])==0:\n",
    "        break    "
   ]
  },
  {
   "cell_type": "code",
   "execution_count": null,
   "metadata": {},
   "outputs": [],
   "source": [
    "with open('rs_clus6.pkl', 'wb') as f:\n",
    "    pickle.dump(recommend_amenities_clus_6, f)\n"
   ]
  },
  {
   "cell_type": "code",
   "execution_count": null,
   "metadata": {},
   "outputs": [],
   "source": [
    "### Cluster 7"
   ]
  },
  {
   "cell_type": "code",
   "execution_count": 46,
   "metadata": {},
   "outputs": [],
   "source": [
    "id_clus = id_cluss['7']\n",
    "df_utility_low_rating_clus = df_utility_low_rating.map_partitions(lambda x: x[x.index.isin(id_clus)])\n",
    "df_utility_high_rating_clus = df_utility_high_rating.map_partitions(lambda x: x[x.index.isin(id_clus)])\n",
    "users_100 = df_utility_low_rating_clus.compute()#.sample(100, random_state=42)\n",
    "\n",
    "recommend_amenities_clus_7 = {}\n",
    "\n",
    "for i in range(1, 11):\n",
    "    print(i)\n",
    "    recommend_i = {}\n",
    "    for user_id, user in users_100.iloc[(i-1)*10:(i)*10].iterrows():\n",
    "        recommend_i[user_id] = delayed_func(user)\n",
    "    results = dask.compute(recommend_i, scheduler='distributed',\n",
    "                           num_workers=12)   \n",
    "\n",
    "    print(len(results[0]))\n",
    "    recommend_amenities_clus_7.update(results[0])\n",
    "    if len(results[0])==0:\n",
    "        break    "
   ]
  },
  {
   "cell_type": "code",
   "execution_count": 12,
   "metadata": {},
   "outputs": [],
   "source": [
    "with open('rs_clus7.pkl', 'wb') as f:\n",
    "    pickle.dump(recommend_amenities_clus_7, f)\n"
   ]
  },
  {
   "cell_type": "markdown",
   "metadata": {},
   "source": [
    "\n",
    "<div align='justify'>One important note here is that due to the difference in the algorithm, the accuracy cannot be measured by comparing if the recommended amenities are already existing in the listing. The listings recommending and being recommended to comes from a different group wherein one is high-rated while one is low-rated. And so, it isn't necessary for the recommended amenities to already be in the set of amenities the low-rated listings has, which is what a high-accuracy recommender system expects.\n",
    "</div>\n",
    "<br>\n",
    "Nonetheless, we can look at the recommended amenities and gather insights from there:"
   ]
  },
  {
   "cell_type": "code",
   "execution_count": 51,
   "metadata": {},
   "outputs": [],
   "source": [
    "all_clus = {}\n",
    "\n",
    "for i in [0, 1, 2, 3, 4, 6, 7]:  # skip 5 since it has no low-rated listings\n",
    "    with open(f'rs_clus{i}.pkl', 'rb') as f:\n",
    "        clus_i = pickle.load(f)\n",
    "    all_clus.update(clus_i)"
   ]
  },
  {
   "cell_type": "code",
   "execution_count": 54,
   "metadata": {},
   "outputs": [],
   "source": [
    "userss = df_rs.map_partitions(lambda x: x[x.index.isin(list(all_clus.keys()))])[\n",
    "    'amenities'].str.replace('\"', '').str.strip('{').str.strip('}').str.split(',').compute()"
   ]
  },
  {
   "cell_type": "code",
   "execution_count": 86,
   "metadata": {},
   "outputs": [],
   "source": [
    "amen_count = pd.Series()\n",
    "\n",
    "for user, items in all_clus.items():\n",
    "    amen_user = userss.loc[user]\n",
    "    amen_count = amen_count.add(items[(~items.index.isin(amen_user)) & (\n",
    "        items > 0.5)].index.value_counts(), fill_value=0)\n",
    "\n",
    "amen_count = amen_count / len(all_clus)"
   ]
  },
  {
   "cell_type": "code",
   "execution_count": 182,
   "metadata": {},
   "outputs": [
    {
     "data": {
      "image/png": "[encoded data removed]",
      "text/plain": [
       "<Figure size 432x288 with 1 Axes>"
      ]
     },
     "metadata": {
      "needs_background": "light"
     },
     "output_type": "display_data"
    }
   ],
   "source": [
    "(amen_count.sort_values(ascending=True)[-20:]).plot.barh()\n",
    "plt.xlabel(\"Proportion of listings\")"
   ]
  },
  {
   "cell_type": "markdown",
   "metadata": {},
   "source": [
    "By setting a threshold of 50% (i.e. at least half of the similar neighbors has the specific amenity), the overall recommendations across clusters are shown above. Washers, iron, and wifi are most recommended across different clusters. Rather than focusing on these results, we look at the recommendations per cluster and see if it varies from the overall recommendations."
   ]
  },
  {
   "cell_type": "code",
   "execution_count": 170,
   "metadata": {},
   "outputs": [],
   "source": [
    "df_recom_summary = pd.DataFrame()\n",
    "# size of low-rating listings per cluster (if not indicated, size is 100)\n",
    "cluster_low_rating_sizes = {2: 72, 7: 9}\n",
    "\n",
    "for i in cluss:\n",
    "    if i == 5:\n",
    "        continue\n",
    "    with open(f'rs_clus{i}.pkl', 'rb') as f:\n",
    "        clus_i = pickle.load(f)\n",
    "    userss = df_rs.map_partitions(\n",
    "        lambda x: x[x.index.isin(list(clus_i.keys()))])\n",
    "    userss = userss['amenities'].str.replace('\"', '').str.strip(\n",
    "        '{').str.strip('}').str.split(',').compute()\n",
    "    amen_count = pd.Series()\n",
    "    for user, items in clus_i.items():\n",
    "        amen_user = userss.loc[user]\n",
    "        amen_count = amen_count.add(\n",
    "            items[(~items.index.isin(amen_user)) & (\n",
    "                items > 0.5)].index.value_counts(),\n",
    "            fill_value=0)\n",
    "    df_recom_summary[cluster_names[i]] = amen_count / \\\n",
    "        cluster_low_rating_sizes.get(i, 100)"
   ]
  },
  {
   "cell_type": "code",
   "execution_count": 171,
   "metadata": {
    "scrolled": false
   },
   "outputs": [
    {
     "data": {
      "text/html": [
       "<div>\n",
       "<style scoped>\n",
       "    .dataframe tbody tr th:only-of-type {\n",
       "        vertical-align: middle;\n",
       "    }\n",
       "\n",
       "    .dataframe tbody tr th {\n",
       "        vertical-align: top;\n",
       "    }\n",
       "\n",
       "    .dataframe thead th {\n",
       "        text-align: right;\n",
       "    }\n",
       "</style>\n",
       "<table border=\"1\" class=\"dataframe\">\n",
       "  <thead>\n",
       "    <tr style=\"text-align: right;\">\n",
       "      <th></th>\n",
       "      <th>Lower-middle</th>\n",
       "      <th>Middle (entire home)</th>\n",
       "      <th>Upper-middle</th>\n",
       "      <th>Low end</th>\n",
       "      <th>Middle (Private rooms)</th>\n",
       "      <th>Ultra low end</th>\n",
       "      <th>High end</th>\n",
       "    </tr>\n",
       "  </thead>\n",
       "  <tbody>\n",
       "    <tr>\n",
       "      <td>Wifi</td>\n",
       "      <td>0.24</td>\n",
       "      <td>0.17</td>\n",
       "      <td>0.222222</td>\n",
       "      <td>0.19</td>\n",
       "      <td>0.21</td>\n",
       "      <td>0.26</td>\n",
       "      <td>0.444444</td>\n",
       "    </tr>\n",
       "    <tr>\n",
       "      <td>Washer</td>\n",
       "      <td>0.23</td>\n",
       "      <td>0.38</td>\n",
       "      <td>0.375000</td>\n",
       "      <td>0.23</td>\n",
       "      <td>0.26</td>\n",
       "      <td>0.33</td>\n",
       "      <td>0.111111</td>\n",
       "    </tr>\n",
       "    <tr>\n",
       "      <td>Iron</td>\n",
       "      <td>0.20</td>\n",
       "      <td>0.29</td>\n",
       "      <td>0.250000</td>\n",
       "      <td>0.14</td>\n",
       "      <td>0.25</td>\n",
       "      <td>0.20</td>\n",
       "      <td>0.333333</td>\n",
       "    </tr>\n",
       "    <tr>\n",
       "      <td>Hair dryer</td>\n",
       "      <td>0.19</td>\n",
       "      <td>0.20</td>\n",
       "      <td>0.277778</td>\n",
       "      <td>0.15</td>\n",
       "      <td>0.24</td>\n",
       "      <td>0.22</td>\n",
       "      <td>0.444444</td>\n",
       "    </tr>\n",
       "    <tr>\n",
       "      <td>Essentials</td>\n",
       "      <td>0.14</td>\n",
       "      <td>0.11</td>\n",
       "      <td>0.083333</td>\n",
       "      <td>0.16</td>\n",
       "      <td>0.09</td>\n",
       "      <td>0.14</td>\n",
       "      <td>0.111111</td>\n",
       "    </tr>\n",
       "    <tr>\n",
       "      <td>Hangers</td>\n",
       "      <td>0.13</td>\n",
       "      <td>0.13</td>\n",
       "      <td>0.125000</td>\n",
       "      <td>0.09</td>\n",
       "      <td>0.07</td>\n",
       "      <td>0.07</td>\n",
       "      <td>0.222222</td>\n",
       "    </tr>\n",
       "    <tr>\n",
       "      <td>Heating</td>\n",
       "      <td>0.12</td>\n",
       "      <td>0.10</td>\n",
       "      <td>0.138889</td>\n",
       "      <td>0.11</td>\n",
       "      <td>0.08</td>\n",
       "      <td>0.14</td>\n",
       "      <td>0.222222</td>\n",
       "    </tr>\n",
       "    <tr>\n",
       "      <td>Shampoo</td>\n",
       "      <td>0.12</td>\n",
       "      <td>0.12</td>\n",
       "      <td>0.055556</td>\n",
       "      <td>0.07</td>\n",
       "      <td>0.10</td>\n",
       "      <td>0.08</td>\n",
       "      <td>0.222222</td>\n",
       "    </tr>\n",
       "    <tr>\n",
       "      <td>Coffee maker</td>\n",
       "      <td>0.10</td>\n",
       "      <td>0.08</td>\n",
       "      <td>0.069444</td>\n",
       "      <td>0.08</td>\n",
       "      <td>0.05</td>\n",
       "      <td>0.05</td>\n",
       "      <td>0.111111</td>\n",
       "    </tr>\n",
       "    <tr>\n",
       "      <td>Laptop friendly workspace</td>\n",
       "      <td>0.09</td>\n",
       "      <td>0.11</td>\n",
       "      <td>0.097222</td>\n",
       "      <td>0.07</td>\n",
       "      <td>0.06</td>\n",
       "      <td>0.15</td>\n",
       "      <td>0.111111</td>\n",
       "    </tr>\n",
       "    <tr>\n",
       "      <td>Smoke detector</td>\n",
       "      <td>0.08</td>\n",
       "      <td>0.15</td>\n",
       "      <td>0.263889</td>\n",
       "      <td>0.11</td>\n",
       "      <td>0.18</td>\n",
       "      <td>0.11</td>\n",
       "      <td>0.222222</td>\n",
       "    </tr>\n",
       "    <tr>\n",
       "      <td>TV</td>\n",
       "      <td>0.08</td>\n",
       "      <td>0.12</td>\n",
       "      <td>0.125000</td>\n",
       "      <td>0.15</td>\n",
       "      <td>0.06</td>\n",
       "      <td>0.04</td>\n",
       "      <td>0.111111</td>\n",
       "    </tr>\n",
       "    <tr>\n",
       "      <td>Oven</td>\n",
       "      <td>0.07</td>\n",
       "      <td>0.03</td>\n",
       "      <td>0.055556</td>\n",
       "      <td>0.04</td>\n",
       "      <td>0.02</td>\n",
       "      <td>0.02</td>\n",
       "      <td>NaN</td>\n",
       "    </tr>\n",
       "    <tr>\n",
       "      <td>Microwave</td>\n",
       "      <td>0.06</td>\n",
       "      <td>0.01</td>\n",
       "      <td>0.041667</td>\n",
       "      <td>NaN</td>\n",
       "      <td>0.02</td>\n",
       "      <td>0.03</td>\n",
       "      <td>NaN</td>\n",
       "    </tr>\n",
       "    <tr>\n",
       "      <td>Hot water</td>\n",
       "      <td>0.05</td>\n",
       "      <td>0.04</td>\n",
       "      <td>0.041667</td>\n",
       "      <td>0.04</td>\n",
       "      <td>NaN</td>\n",
       "      <td>0.05</td>\n",
       "      <td>0.222222</td>\n",
       "    </tr>\n",
       "    <tr>\n",
       "      <td>Kitchen</td>\n",
       "      <td>0.04</td>\n",
       "      <td>0.08</td>\n",
       "      <td>0.055556</td>\n",
       "      <td>0.09</td>\n",
       "      <td>0.12</td>\n",
       "      <td>0.10</td>\n",
       "      <td>0.111111</td>\n",
       "    </tr>\n",
       "    <tr>\n",
       "      <td>Dishwasher</td>\n",
       "      <td>0.04</td>\n",
       "      <td>0.01</td>\n",
       "      <td>0.111111</td>\n",
       "      <td>0.01</td>\n",
       "      <td>NaN</td>\n",
       "      <td>NaN</td>\n",
       "      <td>0.111111</td>\n",
       "    </tr>\n",
       "    <tr>\n",
       "      <td>Stove</td>\n",
       "      <td>0.03</td>\n",
       "      <td>0.04</td>\n",
       "      <td>0.083333</td>\n",
       "      <td>0.05</td>\n",
       "      <td>0.03</td>\n",
       "      <td>0.05</td>\n",
       "      <td>NaN</td>\n",
       "    </tr>\n",
       "    <tr>\n",
       "      <td>Cooking basics</td>\n",
       "      <td>0.02</td>\n",
       "      <td>0.07</td>\n",
       "      <td>0.069444</td>\n",
       "      <td>0.05</td>\n",
       "      <td>0.03</td>\n",
       "      <td>0.02</td>\n",
       "      <td>0.111111</td>\n",
       "    </tr>\n",
       "    <tr>\n",
       "      <td>Dishes and silverware</td>\n",
       "      <td>0.01</td>\n",
       "      <td>0.02</td>\n",
       "      <td>0.013889</td>\n",
       "      <td>0.03</td>\n",
       "      <td>0.01</td>\n",
       "      <td>0.04</td>\n",
       "      <td>NaN</td>\n",
       "    </tr>\n",
       "  </tbody>\n",
       "</table>\n",
       "</div>"
      ],
      "text/plain": [
       "                           Lower-middle  Middle (entire home)  Upper-middle  \\\n",
       "Wifi                               0.24                  0.17      0.222222   \n",
       "Washer                             0.23                  0.38      0.375000   \n",
       "Iron                               0.20                  0.29      0.250000   \n",
       "Hair dryer                         0.19                  0.20      0.277778   \n",
       "Essentials                         0.14                  0.11      0.083333   \n",
       "Hangers                            0.13                  0.13      0.125000   \n",
       "Heating                            0.12                  0.10      0.138889   \n",
       "Shampoo                            0.12                  0.12      0.055556   \n",
       "Coffee maker                       0.10                  0.08      0.069444   \n",
       "Laptop friendly workspace          0.09                  0.11      0.097222   \n",
       "Smoke detector                     0.08                  0.15      0.263889   \n",
       "TV                                 0.08                  0.12      0.125000   \n",
       "Oven                               0.07                  0.03      0.055556   \n",
       "Microwave                          0.06                  0.01      0.041667   \n",
       "Hot water                          0.05                  0.04      0.041667   \n",
       "Kitchen                            0.04                  0.08      0.055556   \n",
       "Dishwasher                         0.04                  0.01      0.111111   \n",
       "Stove                              0.03                  0.04      0.083333   \n",
       "Cooking basics                     0.02                  0.07      0.069444   \n",
       "Dishes and silverware              0.01                  0.02      0.013889   \n",
       "\n",
       "                           Low end  Middle (Private rooms)  Ultra low end  \\\n",
       "Wifi                          0.19                    0.21           0.26   \n",
       "Washer                        0.23                    0.26           0.33   \n",
       "Iron                          0.14                    0.25           0.20   \n",
       "Hair dryer                    0.15                    0.24           0.22   \n",
       "Essentials                    0.16                    0.09           0.14   \n",
       "Hangers                       0.09                    0.07           0.07   \n",
       "Heating                       0.11                    0.08           0.14   \n",
       "Shampoo                       0.07                    0.10           0.08   \n",
       "Coffee maker                  0.08                    0.05           0.05   \n",
       "Laptop friendly workspace     0.07                    0.06           0.15   \n",
       "Smoke detector                0.11                    0.18           0.11   \n",
       "TV                            0.15                    0.06           0.04   \n",
       "Oven                          0.04                    0.02           0.02   \n",
       "Microwave                      NaN                    0.02           0.03   \n",
       "Hot water                     0.04                     NaN           0.05   \n",
       "Kitchen                       0.09                    0.12           0.10   \n",
       "Dishwasher                    0.01                     NaN            NaN   \n",
       "Stove                         0.05                    0.03           0.05   \n",
       "Cooking basics                0.05                    0.03           0.02   \n",
       "Dishes and silverware         0.03                    0.01           0.04   \n",
       "\n",
       "                           High end  \n",
       "Wifi                       0.444444  \n",
       "Washer                     0.111111  \n",
       "Iron                       0.333333  \n",
       "Hair dryer                 0.444444  \n",
       "Essentials                 0.111111  \n",
       "Hangers                    0.222222  \n",
       "Heating                    0.222222  \n",
       "Shampoo                    0.222222  \n",
       "Coffee maker               0.111111  \n",
       "Laptop friendly workspace  0.111111  \n",
       "Smoke detector             0.222222  \n",
       "TV                         0.111111  \n",
       "Oven                            NaN  \n",
       "Microwave                       NaN  \n",
       "Hot water                  0.222222  \n",
       "Kitchen                    0.111111  \n",
       "Dishwasher                 0.111111  \n",
       "Stove                           NaN  \n",
       "Cooking basics             0.111111  \n",
       "Dishes and silverware           NaN  "
      ]
     },
     "execution_count": 171,
     "metadata": {},
     "output_type": "execute_result"
    }
   ],
   "source": [
    "df_recom_summary.sort_values(by=\"Lower-middle\", ascending=False)[:20]"
   ]
  },
  {
   "cell_type": "markdown",
   "metadata": {},
   "source": [
    "Comparing the rankings of the amenities side-by-side with the common amenities per cluster in the heatmap above, we see that what is usually recommended per cluster (right) is different from what is the usual amenity in that cluster (left). This can simply be due to the low-listing amenities already having these amenities but this difference proves that the recommendations and the baseline of the usual amenities is not the same."
   ]
  },
  {
   "cell_type": "code",
   "execution_count": 183,
   "metadata": {},
   "outputs": [
    {
     "data": {
      "image/png": "[encoded data removed]",
      "text/plain": [
       "<Figure size 1080x576 with 2 Axes>"
      ]
     },
     "metadata": {
      "needs_background": "light"
     },
     "output_type": "display_data"
    }
   ],
   "source": [
    "fig, ax = plt.subplots(1, 2, figsize=(15, 8), gridspec_kw={'wspace': 0.4})\n",
    "\n",
    "hm1 = sns.heatmap(df_util_summary.rank(ascending=False),\n",
    "                  ax=ax[0], cmap='Greens', cbar=False, annot=True)\n",
    "hm2 = sns.heatmap(df_recom_summary.rank(ascending=False).reindex(df_util_summary.rank(\n",
    "    ascending=False).index), ax=ax[1], cmap='Blues', cbar=False, annot=True)\n",
    "\n",
    "hm1.set_xticklabels(labels=hm1.get_xticklabels(), rotation=45, ha='right')\n",
    "hm2.set_xticklabels(labels=hm2.get_xticklabels(), rotation=45, ha='right')"
   ]
  },
  {
   "cell_type": "markdown",
   "metadata": {},
   "source": [
    "It is interesting to note that amenities like kitchen and essentials, among others, are very common across listings but are not usually recommended. This may be because these amenities are not the key ingredients in achieving a high ranking. This also shows the disparity of high ranking listing to low ranking ones wherein these amenities are not highly valued as they are things that can also be found in low-rated listings. "
   ]
  },
  {
   "cell_type": "code",
   "execution_count": 185,
   "metadata": {
    "scrolled": false
   },
   "outputs": [
    {
     "data": {
      "image/png": "[encoded data removed]",
      "text/plain": [
       "<Figure size 576x720 with 1 Axes>"
      ]
     },
     "metadata": {
      "needs_background": "light"
     },
     "output_type": "display_data"
    }
   ],
   "source": [
    "fig, ax = plt.subplots(figsize=(8, 10))\n",
    "hm = sns.heatmap(df_recom_summary.sort_values(by=\"Lower-middle\", ascending=False)\n",
    "                 [:20].rank(ascending=False), cmap=\"Blues\", annot=True, cbar=False, ax=ax)\n",
    "hm.set_xticklabels(labels=hm.get_xticklabels(), rotation=45, ha='right')"
   ]
  },
  {
   "cell_type": "markdown",
   "metadata": {},
   "source": [
    "Now, looking at the recommendations per cluster in the heatmap below, we can see that the top 5 amenities per cluster is usually similar, except for the high-end cluster. Due to the scale of the listings under the high-end cluster, it is expected for these listings to already contain essentials like washers, which is also the reason why the washer is ranked 12 among its recommended amenities. Regardless of scale of the listings, what is commonly missing for low-rated listings are `WiFi`, `Hair dryer`, and `Iron`, amenities which cannot be said as completely necessary but is very much desired by customers. Another interesting observation is the `Essentials` which is ranked highly for the lower to middle-end listings but ranked lowly for larger-scale listings. This is consistent with what we found since essentials is usually already available so it is not usually recommended for the higher-end listings. Other similarities and differences can be observed from the plot above like kitchen being relatively highly ranked for middle-end private rooms. "
   ]
  },
  {
   "cell_type": "markdown",
   "metadata": {},
   "source": [
    "For all visualizations and analysis done above, the recommender system is still personalized, i.e. it is done at a per listings level. The aggregation per cluster is only done for analysis and visualization purposes."
   ]
  },
  {
   "cell_type": "markdown",
   "metadata": {},
   "source": [
    "## Conclusions\n",
    "\n",
    "<br>\n",
    "<div align='justify'>In this study, we were able to identify eight (8) clusters of listings based on the type and size of the property. No definitive name of clusters can be defined but based on the summary statistics of the features used, we obtained groupings based on the size of the listings. The number of listings per cluster were somehow balanced except for Cluster 5 with only 7 listings, representing the extreme listing with significantly larger property size compared to others. The clusters obtained are shown below including its defined characteristics:\n",
    " \n",
    "<br>\n",
    "\n",
    "- Cluster 0: Lower-middle end\n",
    "- Cluster 1: Middle end (entire home)\n",
    "- Cluster 2: Upper-middle end\n",
    "- Cluster 3: Low end\n",
    "- Cluster 4: Middle end (Private rooms)\n",
    "- Cluster 5: Ultra high end\n",
    "- Cluster 6: Ultra low end\n",
    "- Cluster 7: High end\n",
    "    \n",
    "\n",
    "Additionally, we were able to provide a personalized recommender system at a listing level which can determine what amenities to add to that listing based on its similar high-rated listings. It was found out that what the low-rated listings lack are the amenities that the customers very much want to have that would give them comfort and this possibly give them the reason why they are far beyond being high-rated one.    \n",
    "</div>"
   ]
  },
  {
   "cell_type": "markdown",
   "metadata": {},
   "source": [
    "## Recommendations\n",
    "\n",
    "<br>\n",
    "<div align='justify'>For future studies, we recommend to look at analyzing how the price or rating of the listings would change after implementing the recommended amenity. This would help the owners determine which amenity to add and a monetary value could be given to show how much more the hosts, and even Airbnb itself, would earn from the recommender system. We also recommend to make general recommender system able to cater to listings from any country or city especially those which are not commonly visited by tourists to help the hosts find ways on how to further improve their listings.\n",
    "</div>\n",
    "<br>\n",
    "<div align='justify'>In terms of optimizing the system, we recommend to explore other features to be used in clustering as this plays an important role in grouping the listings. There might be some features not used in this study which could clearly define the difference between the clusters formed and would give better recommendations. </div>"
   ]
  },
  {
   "cell_type": "markdown",
   "metadata": {},
   "source": [
    "## References / Acknowledgement\n",
    "\n"
   ]
  },
  {
   "cell_type": "markdown",
   "metadata": {},
   "source": [
    "We would like to acknowledge Prof. Christian Alis, Prof. Madhavi, and Prof. Eduardo David, Jr. for mentoring us throughout the course and imparting their knowledge in our journey to become a Data Scientist."
   ]
  },
  {
   "cell_type": "markdown",
   "metadata": {},
   "source": [
    "<a id='contact'></a>\n",
    "<div>\n",
    "<h2>Contact Us</h2>\n",
    "</div><br>\n",
    "Justine Buno: jbuno@aim.edu<br/>\n",
    "Elijah Justin Medina: emedina@aim.edu<br/>\n",
    "Raphael Mari Ongleo: rongleo@aim.edu<br/>"
   ]
  },
  {
   "cell_type": "code",
   "execution_count": null,
   "metadata": {},
   "outputs": [],
   "source": []
  }
 ],
 "metadata": {
  "kernelspec": {
   "display_name": "Python 3",
   "language": "python",
   "name": "python3"
  },
  "language_info": {
   "codemirror_mode": {
    "name": "ipython",
    "version": 3
   },
   "file_extension": ".py",
   "mimetype": "text/x-python",
   "name": "python",
   "nbconvert_exporter": "python",
   "pygments_lexer": "ipython3",
   "version": "3.7.5"
  },
  "toc": {
   "base_numbering": "1",
   "nav_menu": {},
   "number_sections": true,
   "sideBar": true,
   "skip_h1_title": true,
   "title_cell": "Table of Contents",
   "title_sidebar": "Contents",
   "toc_cell": false,
   "toc_position": {
    "height": "calc(100% - 180px)",
    "left": "10px",
    "top": "150px",
    "width": "212px"
   },
   "toc_section_display": true,
   "toc_window_display": true
  },
  "varInspector": {
   "cols": {
    "lenName": 16,
    "lenType": 16,
    "lenVar": 40
   },
   "kernels_config": {
    "python": {
     "delete_cmd_postfix": "",
     "delete_cmd_prefix": "del ",
     "library": "var_list.py",
     "varRefreshCmd": "print(var_dic_list())"
    },
    "r": {
     "delete_cmd_postfix": ") ",
     "delete_cmd_prefix": "rm(",
     "library": "var_list.r",
     "varRefreshCmd": "cat(var_dic_list()) "
    }
   },
   "types_to_exclude": [
    "module",
    "function",
    "builtin_function_or_method",
    "instance",
    "_Feature"
   ],
   "window_display": false
  }
 },
 "nbformat": 4,
 "nbformat_minor": 2
}
